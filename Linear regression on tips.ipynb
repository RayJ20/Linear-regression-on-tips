{
 "cells": [
  {
   "cell_type": "code",
   "execution_count": 1,
   "id": "871e0de2",
   "metadata": {},
   "outputs": [],
   "source": [
    "import pandas as pd\n",
    "import seaborn as sns"
   ]
  },
  {
   "cell_type": "code",
   "execution_count": 2,
   "id": "4ce92830",
   "metadata": {},
   "outputs": [],
   "source": [
    "df=sns.load_dataset('tips')"
   ]
  },
  {
   "cell_type": "code",
   "execution_count": 3,
   "id": "bc9682ac",
   "metadata": {},
   "outputs": [],
   "source": [
    "import numpy as np\n",
    "import matplotlib.pyplot as plt\n"
   ]
  },
  {
   "cell_type": "code",
   "execution_count": 4,
   "id": "d1cf1229",
   "metadata": {},
   "outputs": [
    {
     "data": {
      "text/html": [
       "<div>\n",
       "<style scoped>\n",
       "    .dataframe tbody tr th:only-of-type {\n",
       "        vertical-align: middle;\n",
       "    }\n",
       "\n",
       "    .dataframe tbody tr th {\n",
       "        vertical-align: top;\n",
       "    }\n",
       "\n",
       "    .dataframe thead th {\n",
       "        text-align: right;\n",
       "    }\n",
       "</style>\n",
       "<table border=\"1\" class=\"dataframe\">\n",
       "  <thead>\n",
       "    <tr style=\"text-align: right;\">\n",
       "      <th></th>\n",
       "      <th>total_bill</th>\n",
       "      <th>tip</th>\n",
       "      <th>sex</th>\n",
       "      <th>smoker</th>\n",
       "      <th>day</th>\n",
       "      <th>time</th>\n",
       "      <th>size</th>\n",
       "    </tr>\n",
       "  </thead>\n",
       "  <tbody>\n",
       "    <tr>\n",
       "      <th>0</th>\n",
       "      <td>16.99</td>\n",
       "      <td>1.01</td>\n",
       "      <td>Female</td>\n",
       "      <td>No</td>\n",
       "      <td>Sun</td>\n",
       "      <td>Dinner</td>\n",
       "      <td>2</td>\n",
       "    </tr>\n",
       "    <tr>\n",
       "      <th>1</th>\n",
       "      <td>10.34</td>\n",
       "      <td>1.66</td>\n",
       "      <td>Male</td>\n",
       "      <td>No</td>\n",
       "      <td>Sun</td>\n",
       "      <td>Dinner</td>\n",
       "      <td>3</td>\n",
       "    </tr>\n",
       "    <tr>\n",
       "      <th>2</th>\n",
       "      <td>21.01</td>\n",
       "      <td>3.50</td>\n",
       "      <td>Male</td>\n",
       "      <td>No</td>\n",
       "      <td>Sun</td>\n",
       "      <td>Dinner</td>\n",
       "      <td>3</td>\n",
       "    </tr>\n",
       "    <tr>\n",
       "      <th>3</th>\n",
       "      <td>23.68</td>\n",
       "      <td>3.31</td>\n",
       "      <td>Male</td>\n",
       "      <td>No</td>\n",
       "      <td>Sun</td>\n",
       "      <td>Dinner</td>\n",
       "      <td>2</td>\n",
       "    </tr>\n",
       "    <tr>\n",
       "      <th>4</th>\n",
       "      <td>24.59</td>\n",
       "      <td>3.61</td>\n",
       "      <td>Female</td>\n",
       "      <td>No</td>\n",
       "      <td>Sun</td>\n",
       "      <td>Dinner</td>\n",
       "      <td>4</td>\n",
       "    </tr>\n",
       "  </tbody>\n",
       "</table>\n",
       "</div>"
      ],
      "text/plain": [
       "   total_bill   tip     sex smoker  day    time  size\n",
       "0       16.99  1.01  Female     No  Sun  Dinner     2\n",
       "1       10.34  1.66    Male     No  Sun  Dinner     3\n",
       "2       21.01  3.50    Male     No  Sun  Dinner     3\n",
       "3       23.68  3.31    Male     No  Sun  Dinner     2\n",
       "4       24.59  3.61  Female     No  Sun  Dinner     4"
      ]
     },
     "execution_count": 4,
     "metadata": {},
     "output_type": "execute_result"
    }
   ],
   "source": [
    "df.head()"
   ]
  },
  {
   "cell_type": "code",
   "execution_count": 5,
   "id": "5b59bcbb",
   "metadata": {},
   "outputs": [
    {
     "data": {
      "text/plain": [
       "Index(['total_bill', 'tip', 'sex', 'smoker', 'day', 'time', 'size'], dtype='object')"
      ]
     },
     "execution_count": 5,
     "metadata": {},
     "output_type": "execute_result"
    }
   ],
   "source": [
    "df.columns"
   ]
  },
  {
   "cell_type": "code",
   "execution_count": 6,
   "id": "19a1c7cb",
   "metadata": {},
   "outputs": [
    {
     "data": {
      "text/plain": [
       "['Female', 'Male']\n",
       "Categories (2, object): ['Male', 'Female']"
      ]
     },
     "execution_count": 6,
     "metadata": {},
     "output_type": "execute_result"
    }
   ],
   "source": [
    "df['sex'].unique()"
   ]
  },
  {
   "cell_type": "code",
   "execution_count": 7,
   "id": "fa34ad25",
   "metadata": {},
   "outputs": [],
   "source": [
    "df['sex']=df['sex'].map({'Female':0,'Male':1})"
   ]
  },
  {
   "cell_type": "code",
   "execution_count": 8,
   "id": "dfb9f1c9",
   "metadata": {},
   "outputs": [
    {
     "data": {
      "text/plain": [
       "['No', 'Yes']\n",
       "Categories (2, object): ['Yes', 'No']"
      ]
     },
     "execution_count": 8,
     "metadata": {},
     "output_type": "execute_result"
    }
   ],
   "source": [
    "df['smoker'].unique()"
   ]
  },
  {
   "cell_type": "code",
   "execution_count": 9,
   "id": "1c13fd0f",
   "metadata": {},
   "outputs": [],
   "source": [
    "df['smoker']=df['smoker'].map({'No':0,'Yes':1})"
   ]
  },
  {
   "cell_type": "code",
   "execution_count": 10,
   "id": "da86d08b",
   "metadata": {},
   "outputs": [
    {
     "data": {
      "text/html": [
       "<div>\n",
       "<style scoped>\n",
       "    .dataframe tbody tr th:only-of-type {\n",
       "        vertical-align: middle;\n",
       "    }\n",
       "\n",
       "    .dataframe tbody tr th {\n",
       "        vertical-align: top;\n",
       "    }\n",
       "\n",
       "    .dataframe thead th {\n",
       "        text-align: right;\n",
       "    }\n",
       "</style>\n",
       "<table border=\"1\" class=\"dataframe\">\n",
       "  <thead>\n",
       "    <tr style=\"text-align: right;\">\n",
       "      <th></th>\n",
       "      <th>total_bill</th>\n",
       "      <th>tip</th>\n",
       "      <th>sex</th>\n",
       "      <th>smoker</th>\n",
       "      <th>day</th>\n",
       "      <th>time</th>\n",
       "      <th>size</th>\n",
       "    </tr>\n",
       "  </thead>\n",
       "  <tbody>\n",
       "    <tr>\n",
       "      <th>0</th>\n",
       "      <td>16.99</td>\n",
       "      <td>1.01</td>\n",
       "      <td>0</td>\n",
       "      <td>0</td>\n",
       "      <td>Sun</td>\n",
       "      <td>Dinner</td>\n",
       "      <td>2</td>\n",
       "    </tr>\n",
       "    <tr>\n",
       "      <th>1</th>\n",
       "      <td>10.34</td>\n",
       "      <td>1.66</td>\n",
       "      <td>1</td>\n",
       "      <td>0</td>\n",
       "      <td>Sun</td>\n",
       "      <td>Dinner</td>\n",
       "      <td>3</td>\n",
       "    </tr>\n",
       "    <tr>\n",
       "      <th>2</th>\n",
       "      <td>21.01</td>\n",
       "      <td>3.50</td>\n",
       "      <td>1</td>\n",
       "      <td>0</td>\n",
       "      <td>Sun</td>\n",
       "      <td>Dinner</td>\n",
       "      <td>3</td>\n",
       "    </tr>\n",
       "    <tr>\n",
       "      <th>3</th>\n",
       "      <td>23.68</td>\n",
       "      <td>3.31</td>\n",
       "      <td>1</td>\n",
       "      <td>0</td>\n",
       "      <td>Sun</td>\n",
       "      <td>Dinner</td>\n",
       "      <td>2</td>\n",
       "    </tr>\n",
       "    <tr>\n",
       "      <th>4</th>\n",
       "      <td>24.59</td>\n",
       "      <td>3.61</td>\n",
       "      <td>0</td>\n",
       "      <td>0</td>\n",
       "      <td>Sun</td>\n",
       "      <td>Dinner</td>\n",
       "      <td>4</td>\n",
       "    </tr>\n",
       "  </tbody>\n",
       "</table>\n",
       "</div>"
      ],
      "text/plain": [
       "   total_bill   tip sex smoker  day    time  size\n",
       "0       16.99  1.01   0      0  Sun  Dinner     2\n",
       "1       10.34  1.66   1      0  Sun  Dinner     3\n",
       "2       21.01  3.50   1      0  Sun  Dinner     3\n",
       "3       23.68  3.31   1      0  Sun  Dinner     2\n",
       "4       24.59  3.61   0      0  Sun  Dinner     4"
      ]
     },
     "execution_count": 10,
     "metadata": {},
     "output_type": "execute_result"
    }
   ],
   "source": [
    "df.head()"
   ]
  },
  {
   "cell_type": "code",
   "execution_count": 11,
   "id": "471e5a5b",
   "metadata": {},
   "outputs": [],
   "source": [
    "df['time']=df['time'].replace({'Dinner':1,'Lunch':0})"
   ]
  },
  {
   "cell_type": "code",
   "execution_count": 12,
   "id": "bdf027a4",
   "metadata": {},
   "outputs": [
    {
     "data": {
      "text/html": [
       "<div>\n",
       "<style scoped>\n",
       "    .dataframe tbody tr th:only-of-type {\n",
       "        vertical-align: middle;\n",
       "    }\n",
       "\n",
       "    .dataframe tbody tr th {\n",
       "        vertical-align: top;\n",
       "    }\n",
       "\n",
       "    .dataframe thead th {\n",
       "        text-align: right;\n",
       "    }\n",
       "</style>\n",
       "<table border=\"1\" class=\"dataframe\">\n",
       "  <thead>\n",
       "    <tr style=\"text-align: right;\">\n",
       "      <th></th>\n",
       "      <th>total_bill</th>\n",
       "      <th>tip</th>\n",
       "      <th>sex</th>\n",
       "      <th>smoker</th>\n",
       "      <th>day</th>\n",
       "      <th>time</th>\n",
       "      <th>size</th>\n",
       "    </tr>\n",
       "  </thead>\n",
       "  <tbody>\n",
       "    <tr>\n",
       "      <th>0</th>\n",
       "      <td>16.99</td>\n",
       "      <td>1.01</td>\n",
       "      <td>0</td>\n",
       "      <td>0</td>\n",
       "      <td>Sun</td>\n",
       "      <td>1</td>\n",
       "      <td>2</td>\n",
       "    </tr>\n",
       "    <tr>\n",
       "      <th>1</th>\n",
       "      <td>10.34</td>\n",
       "      <td>1.66</td>\n",
       "      <td>1</td>\n",
       "      <td>0</td>\n",
       "      <td>Sun</td>\n",
       "      <td>1</td>\n",
       "      <td>3</td>\n",
       "    </tr>\n",
       "    <tr>\n",
       "      <th>2</th>\n",
       "      <td>21.01</td>\n",
       "      <td>3.50</td>\n",
       "      <td>1</td>\n",
       "      <td>0</td>\n",
       "      <td>Sun</td>\n",
       "      <td>1</td>\n",
       "      <td>3</td>\n",
       "    </tr>\n",
       "    <tr>\n",
       "      <th>3</th>\n",
       "      <td>23.68</td>\n",
       "      <td>3.31</td>\n",
       "      <td>1</td>\n",
       "      <td>0</td>\n",
       "      <td>Sun</td>\n",
       "      <td>1</td>\n",
       "      <td>2</td>\n",
       "    </tr>\n",
       "    <tr>\n",
       "      <th>4</th>\n",
       "      <td>24.59</td>\n",
       "      <td>3.61</td>\n",
       "      <td>0</td>\n",
       "      <td>0</td>\n",
       "      <td>Sun</td>\n",
       "      <td>1</td>\n",
       "      <td>4</td>\n",
       "    </tr>\n",
       "  </tbody>\n",
       "</table>\n",
       "</div>"
      ],
      "text/plain": [
       "   total_bill   tip sex smoker  day time  size\n",
       "0       16.99  1.01   0      0  Sun    1     2\n",
       "1       10.34  1.66   1      0  Sun    1     3\n",
       "2       21.01  3.50   1      0  Sun    1     3\n",
       "3       23.68  3.31   1      0  Sun    1     2\n",
       "4       24.59  3.61   0      0  Sun    1     4"
      ]
     },
     "execution_count": 12,
     "metadata": {},
     "output_type": "execute_result"
    }
   ],
   "source": [
    "df.head()"
   ]
  },
  {
   "cell_type": "code",
   "execution_count": 13,
   "id": "61d766e1",
   "metadata": {},
   "outputs": [],
   "source": [
    "df.drop(['day'], axis=1 , inplace =True)"
   ]
  },
  {
   "cell_type": "code",
   "execution_count": 14,
   "id": "7a21c2ef",
   "metadata": {},
   "outputs": [
    {
     "name": "stdout",
     "output_type": "stream",
     "text": [
      "<class 'pandas.core.frame.DataFrame'>\n",
      "RangeIndex: 244 entries, 0 to 243\n",
      "Data columns (total 6 columns):\n",
      " #   Column      Non-Null Count  Dtype   \n",
      "---  ------      --------------  -----   \n",
      " 0   total_bill  244 non-null    float64 \n",
      " 1   tip         244 non-null    float64 \n",
      " 2   sex         244 non-null    category\n",
      " 3   smoker      244 non-null    category\n",
      " 4   time        244 non-null    category\n",
      " 5   size        244 non-null    int64   \n",
      "dtypes: category(3), float64(2), int64(1)\n",
      "memory usage: 6.9 KB\n"
     ]
    }
   ],
   "source": [
    "df.info()"
   ]
  },
  {
   "cell_type": "code",
   "execution_count": 15,
   "id": "d31d8d53",
   "metadata": {},
   "outputs": [],
   "source": [
    "df['smoker']=df['smoker'].astype(int)"
   ]
  },
  {
   "cell_type": "code",
   "execution_count": 16,
   "id": "d6119e37",
   "metadata": {},
   "outputs": [],
   "source": [
    "df['time']=df['time'].astype(int)"
   ]
  },
  {
   "cell_type": "code",
   "execution_count": 17,
   "id": "2c8ba35c",
   "metadata": {},
   "outputs": [
    {
     "data": {
      "text/html": [
       "<div>\n",
       "<style scoped>\n",
       "    .dataframe tbody tr th:only-of-type {\n",
       "        vertical-align: middle;\n",
       "    }\n",
       "\n",
       "    .dataframe tbody tr th {\n",
       "        vertical-align: top;\n",
       "    }\n",
       "\n",
       "    .dataframe thead th {\n",
       "        text-align: right;\n",
       "    }\n",
       "</style>\n",
       "<table border=\"1\" class=\"dataframe\">\n",
       "  <thead>\n",
       "    <tr style=\"text-align: right;\">\n",
       "      <th></th>\n",
       "      <th>total_bill</th>\n",
       "      <th>tip</th>\n",
       "      <th>sex</th>\n",
       "      <th>smoker</th>\n",
       "      <th>time</th>\n",
       "      <th>size</th>\n",
       "    </tr>\n",
       "  </thead>\n",
       "  <tbody>\n",
       "    <tr>\n",
       "      <th>0</th>\n",
       "      <td>16.99</td>\n",
       "      <td>1.01</td>\n",
       "      <td>0</td>\n",
       "      <td>0</td>\n",
       "      <td>1</td>\n",
       "      <td>2</td>\n",
       "    </tr>\n",
       "    <tr>\n",
       "      <th>1</th>\n",
       "      <td>10.34</td>\n",
       "      <td>1.66</td>\n",
       "      <td>1</td>\n",
       "      <td>0</td>\n",
       "      <td>1</td>\n",
       "      <td>3</td>\n",
       "    </tr>\n",
       "    <tr>\n",
       "      <th>2</th>\n",
       "      <td>21.01</td>\n",
       "      <td>3.50</td>\n",
       "      <td>1</td>\n",
       "      <td>0</td>\n",
       "      <td>1</td>\n",
       "      <td>3</td>\n",
       "    </tr>\n",
       "    <tr>\n",
       "      <th>3</th>\n",
       "      <td>23.68</td>\n",
       "      <td>3.31</td>\n",
       "      <td>1</td>\n",
       "      <td>0</td>\n",
       "      <td>1</td>\n",
       "      <td>2</td>\n",
       "    </tr>\n",
       "    <tr>\n",
       "      <th>4</th>\n",
       "      <td>24.59</td>\n",
       "      <td>3.61</td>\n",
       "      <td>0</td>\n",
       "      <td>0</td>\n",
       "      <td>1</td>\n",
       "      <td>4</td>\n",
       "    </tr>\n",
       "  </tbody>\n",
       "</table>\n",
       "</div>"
      ],
      "text/plain": [
       "   total_bill   tip sex  smoker  time  size\n",
       "0       16.99  1.01   0       0     1     2\n",
       "1       10.34  1.66   1       0     1     3\n",
       "2       21.01  3.50   1       0     1     3\n",
       "3       23.68  3.31   1       0     1     2\n",
       "4       24.59  3.61   0       0     1     4"
      ]
     },
     "execution_count": 17,
     "metadata": {},
     "output_type": "execute_result"
    }
   ],
   "source": [
    "df.head(5)"
   ]
  },
  {
   "cell_type": "code",
   "execution_count": 18,
   "id": "071cde65",
   "metadata": {},
   "outputs": [
    {
     "data": {
      "text/html": [
       "<div>\n",
       "<style scoped>\n",
       "    .dataframe tbody tr th:only-of-type {\n",
       "        vertical-align: middle;\n",
       "    }\n",
       "\n",
       "    .dataframe tbody tr th {\n",
       "        vertical-align: top;\n",
       "    }\n",
       "\n",
       "    .dataframe thead th {\n",
       "        text-align: right;\n",
       "    }\n",
       "</style>\n",
       "<table border=\"1\" class=\"dataframe\">\n",
       "  <thead>\n",
       "    <tr style=\"text-align: right;\">\n",
       "      <th></th>\n",
       "      <th>total_bill</th>\n",
       "      <th>tip</th>\n",
       "      <th>sex</th>\n",
       "      <th>smoker</th>\n",
       "      <th>time</th>\n",
       "      <th>size</th>\n",
       "    </tr>\n",
       "  </thead>\n",
       "  <tbody>\n",
       "    <tr>\n",
       "      <th>0</th>\n",
       "      <td>16.99</td>\n",
       "      <td>1.01</td>\n",
       "      <td>0</td>\n",
       "      <td>0</td>\n",
       "      <td>1</td>\n",
       "      <td>2</td>\n",
       "    </tr>\n",
       "    <tr>\n",
       "      <th>1</th>\n",
       "      <td>10.34</td>\n",
       "      <td>1.66</td>\n",
       "      <td>1</td>\n",
       "      <td>0</td>\n",
       "      <td>1</td>\n",
       "      <td>3</td>\n",
       "    </tr>\n",
       "    <tr>\n",
       "      <th>2</th>\n",
       "      <td>21.01</td>\n",
       "      <td>3.50</td>\n",
       "      <td>1</td>\n",
       "      <td>0</td>\n",
       "      <td>1</td>\n",
       "      <td>3</td>\n",
       "    </tr>\n",
       "    <tr>\n",
       "      <th>3</th>\n",
       "      <td>23.68</td>\n",
       "      <td>3.31</td>\n",
       "      <td>1</td>\n",
       "      <td>0</td>\n",
       "      <td>1</td>\n",
       "      <td>2</td>\n",
       "    </tr>\n",
       "    <tr>\n",
       "      <th>4</th>\n",
       "      <td>24.59</td>\n",
       "      <td>3.61</td>\n",
       "      <td>0</td>\n",
       "      <td>0</td>\n",
       "      <td>1</td>\n",
       "      <td>4</td>\n",
       "    </tr>\n",
       "  </tbody>\n",
       "</table>\n",
       "</div>"
      ],
      "text/plain": [
       "   total_bill   tip sex  smoker  time  size\n",
       "0       16.99  1.01   0       0     1     2\n",
       "1       10.34  1.66   1       0     1     3\n",
       "2       21.01  3.50   1       0     1     3\n",
       "3       23.68  3.31   1       0     1     2\n",
       "4       24.59  3.61   0       0     1     4"
      ]
     },
     "execution_count": 18,
     "metadata": {},
     "output_type": "execute_result"
    }
   ],
   "source": [
    "df.head()"
   ]
  },
  {
   "cell_type": "code",
   "execution_count": 19,
   "id": "8722610f",
   "metadata": {},
   "outputs": [
    {
     "data": {
      "text/plain": [
       "array([2, 3, 4, 1, 6, 5], dtype=int64)"
      ]
     },
     "execution_count": 19,
     "metadata": {},
     "output_type": "execute_result"
    }
   ],
   "source": [
    "df['size'].unique()"
   ]
  },
  {
   "cell_type": "code",
   "execution_count": 20,
   "id": "d9a1543c",
   "metadata": {},
   "outputs": [
    {
     "data": {
      "text/html": [
       "<div>\n",
       "<style scoped>\n",
       "    .dataframe tbody tr th:only-of-type {\n",
       "        vertical-align: middle;\n",
       "    }\n",
       "\n",
       "    .dataframe tbody tr th {\n",
       "        vertical-align: top;\n",
       "    }\n",
       "\n",
       "    .dataframe thead th {\n",
       "        text-align: right;\n",
       "    }\n",
       "</style>\n",
       "<table border=\"1\" class=\"dataframe\">\n",
       "  <thead>\n",
       "    <tr style=\"text-align: right;\">\n",
       "      <th></th>\n",
       "      <th>total_bill</th>\n",
       "      <th>tip</th>\n",
       "      <th>sex</th>\n",
       "      <th>smoker</th>\n",
       "      <th>time</th>\n",
       "      <th>size</th>\n",
       "    </tr>\n",
       "  </thead>\n",
       "  <tbody>\n",
       "    <tr>\n",
       "      <th>0</th>\n",
       "      <td>16.99</td>\n",
       "      <td>1.01</td>\n",
       "      <td>0</td>\n",
       "      <td>0</td>\n",
       "      <td>1</td>\n",
       "      <td>2</td>\n",
       "    </tr>\n",
       "    <tr>\n",
       "      <th>1</th>\n",
       "      <td>10.34</td>\n",
       "      <td>1.66</td>\n",
       "      <td>1</td>\n",
       "      <td>0</td>\n",
       "      <td>1</td>\n",
       "      <td>3</td>\n",
       "    </tr>\n",
       "    <tr>\n",
       "      <th>2</th>\n",
       "      <td>21.01</td>\n",
       "      <td>3.50</td>\n",
       "      <td>1</td>\n",
       "      <td>0</td>\n",
       "      <td>1</td>\n",
       "      <td>3</td>\n",
       "    </tr>\n",
       "    <tr>\n",
       "      <th>3</th>\n",
       "      <td>23.68</td>\n",
       "      <td>3.31</td>\n",
       "      <td>1</td>\n",
       "      <td>0</td>\n",
       "      <td>1</td>\n",
       "      <td>2</td>\n",
       "    </tr>\n",
       "    <tr>\n",
       "      <th>4</th>\n",
       "      <td>24.59</td>\n",
       "      <td>3.61</td>\n",
       "      <td>0</td>\n",
       "      <td>0</td>\n",
       "      <td>1</td>\n",
       "      <td>4</td>\n",
       "    </tr>\n",
       "  </tbody>\n",
       "</table>\n",
       "</div>"
      ],
      "text/plain": [
       "   total_bill   tip sex  smoker  time  size\n",
       "0       16.99  1.01   0       0     1     2\n",
       "1       10.34  1.66   1       0     1     3\n",
       "2       21.01  3.50   1       0     1     3\n",
       "3       23.68  3.31   1       0     1     2\n",
       "4       24.59  3.61   0       0     1     4"
      ]
     },
     "execution_count": 20,
     "metadata": {},
     "output_type": "execute_result"
    }
   ],
   "source": [
    "df.head()"
   ]
  },
  {
   "cell_type": "code",
   "execution_count": 21,
   "id": "4bd8fae3",
   "metadata": {},
   "outputs": [
    {
     "name": "stdout",
     "output_type": "stream",
     "text": [
      "<class 'pandas.core.frame.DataFrame'>\n",
      "RangeIndex: 244 entries, 0 to 243\n",
      "Data columns (total 6 columns):\n",
      " #   Column      Non-Null Count  Dtype   \n",
      "---  ------      --------------  -----   \n",
      " 0   total_bill  244 non-null    float64 \n",
      " 1   tip         244 non-null    float64 \n",
      " 2   sex         244 non-null    category\n",
      " 3   smoker      244 non-null    int32   \n",
      " 4   time        244 non-null    int32   \n",
      " 5   size        244 non-null    int64   \n",
      "dtypes: category(1), float64(2), int32(2), int64(1)\n",
      "memory usage: 8.1 KB\n"
     ]
    }
   ],
   "source": [
    "df.info()"
   ]
  },
  {
   "cell_type": "code",
   "execution_count": 22,
   "id": "7e29ab1d",
   "metadata": {},
   "outputs": [],
   "source": [
    "df['sex']=df['sex'].astype(int)"
   ]
  },
  {
   "cell_type": "code",
   "execution_count": 23,
   "id": "5f5a74b8",
   "metadata": {},
   "outputs": [],
   "source": [
    "df['total_bill']=df['total_bill'].astype(int)"
   ]
  },
  {
   "cell_type": "code",
   "execution_count": 24,
   "id": "89b279e4",
   "metadata": {},
   "outputs": [
    {
     "name": "stdout",
     "output_type": "stream",
     "text": [
      "<class 'pandas.core.frame.DataFrame'>\n",
      "RangeIndex: 244 entries, 0 to 243\n",
      "Data columns (total 6 columns):\n",
      " #   Column      Non-Null Count  Dtype  \n",
      "---  ------      --------------  -----  \n",
      " 0   total_bill  244 non-null    int32  \n",
      " 1   tip         244 non-null    float64\n",
      " 2   sex         244 non-null    int32  \n",
      " 3   smoker      244 non-null    int32  \n",
      " 4   time        244 non-null    int32  \n",
      " 5   size        244 non-null    int64  \n",
      "dtypes: float64(1), int32(4), int64(1)\n",
      "memory usage: 7.8 KB\n"
     ]
    }
   ],
   "source": [
    "df.info()"
   ]
  },
  {
   "cell_type": "code",
   "execution_count": 25,
   "id": "8e0b2e9b",
   "metadata": {},
   "outputs": [
    {
     "data": {
      "text/html": [
       "<div>\n",
       "<style scoped>\n",
       "    .dataframe tbody tr th:only-of-type {\n",
       "        vertical-align: middle;\n",
       "    }\n",
       "\n",
       "    .dataframe tbody tr th {\n",
       "        vertical-align: top;\n",
       "    }\n",
       "\n",
       "    .dataframe thead th {\n",
       "        text-align: right;\n",
       "    }\n",
       "</style>\n",
       "<table border=\"1\" class=\"dataframe\">\n",
       "  <thead>\n",
       "    <tr style=\"text-align: right;\">\n",
       "      <th></th>\n",
       "      <th>tip</th>\n",
       "      <th>sex</th>\n",
       "      <th>smoker</th>\n",
       "      <th>time</th>\n",
       "      <th>size</th>\n",
       "    </tr>\n",
       "  </thead>\n",
       "  <tbody>\n",
       "    <tr>\n",
       "      <th>0</th>\n",
       "      <td>1.01</td>\n",
       "      <td>0</td>\n",
       "      <td>0</td>\n",
       "      <td>1</td>\n",
       "      <td>2</td>\n",
       "    </tr>\n",
       "    <tr>\n",
       "      <th>1</th>\n",
       "      <td>1.66</td>\n",
       "      <td>1</td>\n",
       "      <td>0</td>\n",
       "      <td>1</td>\n",
       "      <td>3</td>\n",
       "    </tr>\n",
       "    <tr>\n",
       "      <th>2</th>\n",
       "      <td>3.50</td>\n",
       "      <td>1</td>\n",
       "      <td>0</td>\n",
       "      <td>1</td>\n",
       "      <td>3</td>\n",
       "    </tr>\n",
       "    <tr>\n",
       "      <th>3</th>\n",
       "      <td>3.31</td>\n",
       "      <td>1</td>\n",
       "      <td>0</td>\n",
       "      <td>1</td>\n",
       "      <td>2</td>\n",
       "    </tr>\n",
       "    <tr>\n",
       "      <th>4</th>\n",
       "      <td>3.61</td>\n",
       "      <td>0</td>\n",
       "      <td>0</td>\n",
       "      <td>1</td>\n",
       "      <td>4</td>\n",
       "    </tr>\n",
       "  </tbody>\n",
       "</table>\n",
       "</div>"
      ],
      "text/plain": [
       "    tip  sex  smoker  time  size\n",
       "0  1.01    0       0     1     2\n",
       "1  1.66    1       0     1     3\n",
       "2  3.50    1       0     1     3\n",
       "3  3.31    1       0     1     2\n",
       "4  3.61    0       0     1     4"
      ]
     },
     "execution_count": 25,
     "metadata": {},
     "output_type": "execute_result"
    }
   ],
   "source": [
    "#independent variable\n",
    "df.isnull().sum()\n",
    "sd=df.copy()\n",
    "sd=sd.drop(['total_bill'],axis=1)\n",
    "sd.head()"
   ]
  },
  {
   "cell_type": "code",
   "execution_count": 26,
   "id": "5f3558c0",
   "metadata": {},
   "outputs": [],
   "source": [
    "X=sd\n",
    "y=df['total_bill']"
   ]
  },
  {
   "cell_type": "code",
   "execution_count": 27,
   "id": "c3e15600",
   "metadata": {},
   "outputs": [],
   "source": [
    "#train-test-split\n",
    "from sklearn.model_selection import train_test_split\n",
    "\n",
    "X_train, X_test, y_train, y_test = train_test_split(\n",
    "    X, y, test_size=0.30, random_state=42)"
   ]
  },
  {
   "cell_type": "code",
   "execution_count": 28,
   "id": "e49b66db",
   "metadata": {},
   "outputs": [
    {
     "data": {
      "text/html": [
       "<div>\n",
       "<style scoped>\n",
       "    .dataframe tbody tr th:only-of-type {\n",
       "        vertical-align: middle;\n",
       "    }\n",
       "\n",
       "    .dataframe tbody tr th {\n",
       "        vertical-align: top;\n",
       "    }\n",
       "\n",
       "    .dataframe thead th {\n",
       "        text-align: right;\n",
       "    }\n",
       "</style>\n",
       "<table border=\"1\" class=\"dataframe\">\n",
       "  <thead>\n",
       "    <tr style=\"text-align: right;\">\n",
       "      <th></th>\n",
       "      <th>tip</th>\n",
       "      <th>sex</th>\n",
       "      <th>smoker</th>\n",
       "      <th>time</th>\n",
       "      <th>size</th>\n",
       "    </tr>\n",
       "  </thead>\n",
       "  <tbody>\n",
       "    <tr>\n",
       "      <th>234</th>\n",
       "      <td>3.00</td>\n",
       "      <td>1</td>\n",
       "      <td>1</td>\n",
       "      <td>1</td>\n",
       "      <td>2</td>\n",
       "    </tr>\n",
       "    <tr>\n",
       "      <th>227</th>\n",
       "      <td>3.00</td>\n",
       "      <td>1</td>\n",
       "      <td>0</td>\n",
       "      <td>1</td>\n",
       "      <td>4</td>\n",
       "    </tr>\n",
       "    <tr>\n",
       "      <th>180</th>\n",
       "      <td>3.68</td>\n",
       "      <td>1</td>\n",
       "      <td>1</td>\n",
       "      <td>1</td>\n",
       "      <td>4</td>\n",
       "    </tr>\n",
       "    <tr>\n",
       "      <th>5</th>\n",
       "      <td>4.71</td>\n",
       "      <td>1</td>\n",
       "      <td>0</td>\n",
       "      <td>1</td>\n",
       "      <td>4</td>\n",
       "    </tr>\n",
       "    <tr>\n",
       "      <th>56</th>\n",
       "      <td>3.00</td>\n",
       "      <td>1</td>\n",
       "      <td>1</td>\n",
       "      <td>1</td>\n",
       "      <td>4</td>\n",
       "    </tr>\n",
       "    <tr>\n",
       "      <th>...</th>\n",
       "      <td>...</td>\n",
       "      <td>...</td>\n",
       "      <td>...</td>\n",
       "      <td>...</td>\n",
       "      <td>...</td>\n",
       "    </tr>\n",
       "    <tr>\n",
       "      <th>106</th>\n",
       "      <td>4.06</td>\n",
       "      <td>1</td>\n",
       "      <td>1</td>\n",
       "      <td>1</td>\n",
       "      <td>2</td>\n",
       "    </tr>\n",
       "    <tr>\n",
       "      <th>14</th>\n",
       "      <td>3.02</td>\n",
       "      <td>0</td>\n",
       "      <td>0</td>\n",
       "      <td>1</td>\n",
       "      <td>2</td>\n",
       "    </tr>\n",
       "    <tr>\n",
       "      <th>92</th>\n",
       "      <td>1.00</td>\n",
       "      <td>0</td>\n",
       "      <td>1</td>\n",
       "      <td>1</td>\n",
       "      <td>2</td>\n",
       "    </tr>\n",
       "    <tr>\n",
       "      <th>179</th>\n",
       "      <td>3.55</td>\n",
       "      <td>1</td>\n",
       "      <td>1</td>\n",
       "      <td>1</td>\n",
       "      <td>2</td>\n",
       "    </tr>\n",
       "    <tr>\n",
       "      <th>102</th>\n",
       "      <td>2.50</td>\n",
       "      <td>0</td>\n",
       "      <td>1</td>\n",
       "      <td>1</td>\n",
       "      <td>3</td>\n",
       "    </tr>\n",
       "  </tbody>\n",
       "</table>\n",
       "<p>170 rows × 5 columns</p>\n",
       "</div>"
      ],
      "text/plain": [
       "      tip  sex  smoker  time  size\n",
       "234  3.00    1       1     1     2\n",
       "227  3.00    1       0     1     4\n",
       "180  3.68    1       1     1     4\n",
       "5    4.71    1       0     1     4\n",
       "56   3.00    1       1     1     4\n",
       "..    ...  ...     ...   ...   ...\n",
       "106  4.06    1       1     1     2\n",
       "14   3.02    0       0     1     2\n",
       "92   1.00    0       1     1     2\n",
       "179  3.55    1       1     1     2\n",
       "102  2.50    0       1     1     3\n",
       "\n",
       "[170 rows x 5 columns]"
      ]
     },
     "execution_count": 28,
     "metadata": {},
     "output_type": "execute_result"
    }
   ],
   "source": [
    "X_train"
   ]
  },
  {
   "cell_type": "code",
   "execution_count": 29,
   "id": "46e41507",
   "metadata": {},
   "outputs": [],
   "source": [
    "#standardizing the dataset\n",
    "from sklearn.preprocessing import StandardScaler\n",
    "\n",
    "scaler=StandardScaler()"
   ]
  },
  {
   "cell_type": "code",
   "execution_count": 30,
   "id": "f246ffcb",
   "metadata": {},
   "outputs": [
    {
     "data": {
      "text/plain": [
       "array([[-6.08609492e-02,  7.57676761e-01,  1.25529183e+00,\n",
       "         6.36363636e-01, -6.25518269e-01],\n",
       "       [-6.08609492e-02,  7.57676761e-01, -7.96627507e-01,\n",
       "         6.36363636e-01,  1.52272629e+00],\n",
       "       [ 4.04451599e-01,  7.57676761e-01,  1.25529183e+00,\n",
       "         6.36363636e-01,  1.52272629e+00],\n",
       "       [ 1.10926325e+00,  7.57676761e-01, -7.96627507e-01,\n",
       "         6.36363636e-01,  1.52272629e+00],\n",
       "       [-6.08609492e-02,  7.57676761e-01,  1.25529183e+00,\n",
       "         6.36363636e-01,  1.52272629e+00],\n",
       "       [ 7.60278841e-01, -1.31982404e+00, -7.96627507e-01,\n",
       "        -1.57142857e+00,  3.67097085e+00],\n",
       "       [-9.29900561e-01,  7.57676761e-01, -7.96627507e-01,\n",
       "        -1.57142857e+00, -6.25518269e-01],\n",
       "       [ 6.23422210e-01, -1.31982404e+00, -7.96627507e-01,\n",
       "         6.36363636e-01,  4.48604011e-01],\n",
       "       [ 4.17815246e-02,  7.57676761e-01, -7.96627507e-01,\n",
       "         6.36363636e-01,  4.48604011e-01],\n",
       "       [-1.08728569e+00, -1.31982404e+00, -7.96627507e-01,\n",
       "        -1.57142857e+00, -6.25518269e-01],\n",
       "       [-6.08609492e-02,  7.57676761e-01,  1.25529183e+00,\n",
       "         6.36363636e-01,  1.52272629e+00],\n",
       "       [-7.45144108e-01, -1.31982404e+00, -7.96627507e-01,\n",
       "         6.36363636e-01,  4.48604011e-01],\n",
       "       [-4.03002529e-01,  7.57676761e-01, -7.96627507e-01,\n",
       "         6.36363636e-01,  1.52272629e+00],\n",
       "       [-1.03938587e+00,  7.57676761e-01, -7.96627507e-01,\n",
       "         6.36363636e-01, -6.25518269e-01],\n",
       "       [ 3.49708946e-01,  7.57676761e-01, -7.96627507e-01,\n",
       "         6.36363636e-01,  4.48604011e-01],\n",
       "       [ 8.28707157e-01,  7.57676761e-01, -7.96627507e-01,\n",
       "         6.36363636e-01, -6.25518269e-01],\n",
       "       [-1.98039597e-02,  7.57676761e-01, -7.96627507e-01,\n",
       "         6.36363636e-01, -6.25518269e-01],\n",
       "       [ 1.93724587e+00,  7.57676761e-01, -7.96627507e-01,\n",
       "         6.36363636e-01,  4.48604011e-01],\n",
       "       [-1.10097135e+00,  7.57676761e-01, -7.96627507e-01,\n",
       "        -1.57142857e+00, -6.25518269e-01],\n",
       "       [ 8.28707157e-01, -1.31982404e+00,  1.25529183e+00,\n",
       "         6.36363636e-01, -6.25518269e-01],\n",
       "       [-6.08609492e-02, -1.31982404e+00,  1.25529183e+00,\n",
       "         6.36363636e-01, -6.25518269e-01],\n",
       "       [-3.34574213e-01, -1.31982404e+00, -7.96627507e-01,\n",
       "         6.36363636e-01, -6.25518269e-01],\n",
       "       [ 1.12294892e+00,  7.57676761e-01,  1.25529183e+00,\n",
       "         6.36363636e-01,  1.52272629e+00],\n",
       "       [ 2.81280630e-01, -1.31982404e+00, -7.96627507e-01,\n",
       "        -1.57142857e+00, -6.25518269e-01],\n",
       "       [ 6.23422210e-01,  7.57676761e-01,  1.25529183e+00,\n",
       "        -1.57142857e+00, -6.25518269e-01],\n",
       "       [-6.11829648e-03,  7.57676761e-01,  1.25529183e+00,\n",
       "         6.36363636e-01, -6.25518269e-01],\n",
       "       [-3.75631202e-01,  7.57676761e-01, -7.96627507e-01,\n",
       "         6.36363636e-01, -6.25518269e-01],\n",
       "       [ 4.59194251e-01,  7.57676761e-01, -7.96627507e-01,\n",
       "         6.36363636e-01, -6.25518269e-01],\n",
       "       [-6.08609492e-02, -1.31982404e+00, -7.96627507e-01,\n",
       "        -1.57142857e+00,  4.48604011e-01],\n",
       "       [-6.08609492e-02,  7.57676761e-01, -7.96627507e-01,\n",
       "        -1.57142857e+00, -6.25518269e-01],\n",
       "       [-5.39859160e-01, -1.31982404e+00, -7.96627507e-01,\n",
       "        -1.57142857e+00, -6.25518269e-01],\n",
       "       [-7.45144108e-01,  7.57676761e-01, -7.96627507e-01,\n",
       "         6.36363636e-01, -6.25518269e-01],\n",
       "       [-1.25835648e+00,  7.57676761e-01, -7.96627507e-01,\n",
       "         6.36363636e-01, -6.25518269e-01],\n",
       "       [-4.03002529e-01, -1.31982404e+00,  1.25529183e+00,\n",
       "         6.36363636e-01, -6.25518269e-01],\n",
       "       [ 2.33413011e+00,  7.57676761e-01,  1.25529183e+00,\n",
       "         6.36363636e-01,  1.52272629e+00],\n",
       "       [-7.31458445e-01,  7.57676761e-01,  1.25529183e+00,\n",
       "        -1.57142857e+00, -6.25518269e-01],\n",
       "       [-1.42258444e+00, -1.31982404e+00, -7.96627507e-01,\n",
       "         6.36363636e-01, -6.25518269e-01],\n",
       "       [ 2.81280630e-01,  7.57676761e-01, -7.96627507e-01,\n",
       "         6.36363636e-01,  4.48604011e-01],\n",
       "       [ 6.23422210e-01,  7.57676761e-01, -7.96627507e-01,\n",
       "        -1.57142857e+00,  1.52272629e+00],\n",
       "       [ 1.30770537e+00,  7.57676761e-01, -7.96627507e-01,\n",
       "         6.36363636e-01, -6.25518269e-01],\n",
       "       [-4.03002529e-01, -1.31982404e+00,  1.25529183e+00,\n",
       "         6.36363636e-01, -6.25518269e-01],\n",
       "       [-7.45144108e-01, -1.31982404e+00, -7.96627507e-01,\n",
       "        -1.57142857e+00, -6.25518269e-01],\n",
       "       [-9.98328877e-01, -1.31982404e+00, -7.96627507e-01,\n",
       "        -1.57142857e+00, -6.25518269e-01],\n",
       "       [ 1.44101983e-02,  7.57676761e-01,  1.25529183e+00,\n",
       "         6.36363636e-01, -6.25518269e-01],\n",
       "       [-6.08609492e-02,  7.57676761e-01,  1.25529183e+00,\n",
       "         6.36363636e-01, -6.25518269e-01],\n",
       "       [ 1.42403351e+00, -1.31982404e+00, -7.96627507e-01,\n",
       "        -1.57142857e+00,  1.52272629e+00],\n",
       "       [ 4.72912116e+00,  7.57676761e-01,  1.25529183e+00,\n",
       "         6.36363636e-01,  4.48604011e-01],\n",
       "       [-4.03002529e-01,  7.57676761e-01, -7.96627507e-01,\n",
       "         6.36363636e-01, -6.25518269e-01],\n",
       "       [-6.08609492e-02,  7.57676761e-01,  1.25529183e+00,\n",
       "         6.36363636e-01, -6.25518269e-01],\n",
       "       [-7.45144108e-01,  7.57676761e-01, -7.96627507e-01,\n",
       "         6.36363636e-01,  4.48604011e-01],\n",
       "       [ 1.30770537e+00, -1.31982404e+00, -7.96627507e-01,\n",
       "        -1.57142857e+00,  3.67097085e+00],\n",
       "       [-7.45144108e-01,  7.57676761e-01,  1.25529183e+00,\n",
       "         6.36363636e-01, -6.25518269e-01],\n",
       "       [-5.87758981e-01, -1.31982404e+00, -7.96627507e-01,\n",
       "         6.36363636e-01, -6.25518269e-01],\n",
       "       [-8.82000740e-01, -1.31982404e+00, -7.96627507e-01,\n",
       "        -1.57142857e+00, -6.25518269e-01],\n",
       "       [-3.27731381e-01, -1.31982404e+00, -7.96627507e-01,\n",
       "         6.36363636e-01, -6.25518269e-01],\n",
       "       [-7.45144108e-01, -1.31982404e+00, -7.96627507e-01,\n",
       "        -1.57142857e+00, -6.25518269e-01],\n",
       "       [ 1.30770537e+00, -1.31982404e+00, -7.96627507e-01,\n",
       "         6.36363636e-01,  1.52272629e+00],\n",
       "       [ 1.08189193e+00, -1.31982404e+00, -7.96627507e-01,\n",
       "         6.36363636e-01,  4.48604011e-01],\n",
       "       [-7.45144108e-01,  7.57676761e-01, -7.96627507e-01,\n",
       "         6.36363636e-01, -6.25518269e-01],\n",
       "       [-4.03002529e-01,  7.57676761e-01, -7.96627507e-01,\n",
       "         6.36363636e-01, -6.25518269e-01],\n",
       "       [ 3.56551778e-01, -1.31982404e+00, -7.96627507e-01,\n",
       "         6.36363636e-01,  1.52272629e+00],\n",
       "       [-4.03002529e-01,  7.57676761e-01, -7.96627507e-01,\n",
       "        -1.57142857e+00, -6.25518269e-01],\n",
       "       [-6.08609492e-02, -1.31982404e+00, -7.96627507e-01,\n",
       "         6.36363636e-01, -6.25518269e-01],\n",
       "       [ 2.47098674e+00,  7.57676761e-01, -7.96627507e-01,\n",
       "        -1.57142857e+00,  3.67097085e+00],\n",
       "       [ 6.23100194e-02,  7.57676761e-01,  1.25529183e+00,\n",
       "         6.36363636e-01, -6.25518269e-01],\n",
       "       [-7.45144108e-01,  7.57676761e-01,  1.25529183e+00,\n",
       "        -1.57142857e+00, -6.25518269e-01],\n",
       "       [-7.58829771e-01,  7.57676761e-01,  1.25529183e+00,\n",
       "         6.36363636e-01, -6.25518269e-01],\n",
       "       [-1.25835648e+00, -1.31982404e+00, -7.96627507e-01,\n",
       "        -1.57142857e+00, -6.25518269e-01],\n",
       "       [-7.45144108e-01, -1.31982404e+00, -7.96627507e-01,\n",
       "        -1.57142857e+00, -6.25518269e-01],\n",
       "       [-6.08287476e-01,  7.57676761e-01,  1.25529183e+00,\n",
       "        -1.57142857e+00, -6.25518269e-01],\n",
       "       [-6.08609492e-02,  7.57676761e-01,  1.25529183e+00,\n",
       "         6.36363636e-01, -6.25518269e-01],\n",
       "       [-7.65672603e-01,  7.57676761e-01, -7.96627507e-01,\n",
       "         6.36363636e-01, -6.25518269e-01],\n",
       "       [ 9.65241773e-02, -1.31982404e+00,  1.25529183e+00,\n",
       "        -1.57142857e+00,  4.48604011e-01],\n",
       "       [-3.07202886e-01,  7.57676761e-01, -7.96627507e-01,\n",
       "         6.36363636e-01,  4.48604011e-01],\n",
       "       [ 1.71827526e+00,  7.57676761e-01, -7.96627507e-01,\n",
       "         6.36363636e-01,  1.52272629e+00],\n",
       "       [ 7.24535109e-04, -1.31982404e+00,  1.25529183e+00,\n",
       "         6.36363636e-01,  1.52272629e+00],\n",
       "       [-5.80916150e-01,  7.57676761e-01, -7.96627507e-01,\n",
       "         6.36363636e-01,  4.48604011e-01],\n",
       "       [-7.45144108e-01,  7.57676761e-01, -7.96627507e-01,\n",
       "        -1.57142857e+00, -6.25518269e-01],\n",
       "       [ 3.07315592e+00,  7.57676761e-01, -7.96627507e-01,\n",
       "         6.36363636e-01,  1.52272629e+00],\n",
       "       [ 2.81280630e-01,  7.57676761e-01,  1.25529183e+00,\n",
       "         6.36363636e-01,  4.48604011e-01],\n",
       "       [ 6.23422210e-01, -1.31982404e+00,  1.25529183e+00,\n",
       "         6.36363636e-01, -6.25518269e-01],\n",
       "       [ 2.12852314e-01,  7.57676761e-01, -7.96627507e-01,\n",
       "        -1.57142857e+00, -6.25518269e-01],\n",
       "       [ 1.30770537e+00,  7.57676761e-01, -7.96627507e-01,\n",
       "         6.36363636e-01,  4.48604011e-01],\n",
       "       [ 6.23422210e-01,  7.57676761e-01,  1.25529183e+00,\n",
       "        -1.57142857e+00,  1.52272629e+00],\n",
       "       [ 1.99198853e+00,  7.57676761e-01, -7.96627507e-01,\n",
       "         6.36363636e-01,  1.52272629e+00],\n",
       "       [ 1.10209841e-01, -1.31982404e+00, -7.96627507e-01,\n",
       "         6.36363636e-01, -6.25518269e-01],\n",
       "       [ 1.30770537e+00,  7.57676761e-01, -7.96627507e-01,\n",
       "         6.36363636e-01,  2.59684857e+00],\n",
       "       [-1.21045666e+00,  7.57676761e-01, -7.96627507e-01,\n",
       "         6.36363636e-01, -6.25518269e-01],\n",
       "       [-1.08728569e+00, -1.31982404e+00, -7.96627507e-01,\n",
       "        -1.57142857e+00, -6.25518269e-01],\n",
       "       [-1.08728569e+00,  7.57676761e-01,  1.25529183e+00,\n",
       "         6.36363636e-01, -6.25518269e-01],\n",
       "       [ 1.51266830e-01,  7.57676761e-01, -7.96627507e-01,\n",
       "         6.36363636e-01, -6.25518269e-01],\n",
       "       [-9.91486045e-01,  7.57676761e-01,  1.25529183e+00,\n",
       "         6.36363636e-01, -6.25518269e-01],\n",
       "       [-1.04622870e+00,  7.57676761e-01, -7.96627507e-01,\n",
       "         6.36363636e-01, -6.25518269e-01],\n",
       "       [-7.45144108e-01, -1.31982404e+00, -7.96627507e-01,\n",
       "        -1.57142857e+00, -6.25518269e-01],\n",
       "       [ 2.67594967e-01, -1.31982404e+00,  1.25529183e+00,\n",
       "        -1.57142857e+00, -6.25518269e-01],\n",
       "       [-1.31309913e+00,  7.57676761e-01,  1.25529183e+00,\n",
       "         6.36363636e-01, -6.25518269e-01],\n",
       "       [-7.45144108e-01, -1.31982404e+00,  1.25529183e+00,\n",
       "        -1.57142857e+00, -6.25518269e-01],\n",
       "       [-6.08609492e-02,  7.57676761e-01, -7.96627507e-01,\n",
       "         6.36363636e-01, -6.25518269e-01],\n",
       "       [-7.45144108e-01,  7.57676761e-01, -7.96627507e-01,\n",
       "         6.36363636e-01, -6.25518269e-01],\n",
       "       [-6.08609492e-02,  7.57676761e-01,  1.25529183e+00,\n",
       "        -1.57142857e+00, -6.25518269e-01],\n",
       "       [ 1.23895504e-01,  7.57676761e-01, -7.96627507e-01,\n",
       "         6.36363636e-01, -6.25518269e-01],\n",
       "       [-7.38301276e-01, -1.31982404e+00,  1.25529183e+00,\n",
       "        -1.57142857e+00, -6.25518269e-01],\n",
       "       [ 2.12530299e-02,  7.57676761e-01, -7.96627507e-01,\n",
       "         6.36363636e-01,  1.52272629e+00],\n",
       "       [ 4.86243562e-02,  7.57676761e-01,  1.25529183e+00,\n",
       "         6.36363636e-01, -6.25518269e-01],\n",
       "       [-6.08609492e-02,  7.57676761e-01, -7.96627507e-01,\n",
       "         6.36363636e-01, -6.25518269e-01],\n",
       "       [ 2.81280630e-01,  7.57676761e-01, -7.96627507e-01,\n",
       "         6.36363636e-01, -6.25518269e-01],\n",
       "       [ 1.30770537e+00,  7.57676761e-01,  1.25529183e+00,\n",
       "        -1.57142857e+00, -6.25518269e-01],\n",
       "       [-1.08728569e+00,  7.57676761e-01,  1.25529183e+00,\n",
       "         6.36363636e-01, -6.25518269e-01],\n",
       "       [-7.99886761e-01,  7.57676761e-01,  1.25529183e+00,\n",
       "        -1.57142857e+00, -1.69964055e+00],\n",
       "       [-6.08609492e-02,  7.57676761e-01, -7.96627507e-01,\n",
       "        -1.57142857e+00, -6.25518269e-01],\n",
       "       [-7.72515434e-01,  7.57676761e-01, -7.96627507e-01,\n",
       "         6.36363636e-01, -6.25518269e-01],\n",
       "       [-6.08609492e-02,  7.57676761e-01, -7.96627507e-01,\n",
       "         6.36363636e-01,  1.52272629e+00],\n",
       "       [ 2.49151523e+00,  7.57676761e-01, -7.96627507e-01,\n",
       "         6.36363636e-01,  1.52272629e+00],\n",
       "       [-5.87758981e-01, -1.31982404e+00,  1.25529183e+00,\n",
       "         6.36363636e-01, -6.25518269e-01],\n",
       "       [-1.77189086e-01, -1.31982404e+00, -7.96627507e-01,\n",
       "        -1.57142857e+00, -6.25518269e-01],\n",
       "       [ 4.24980094e-01,  7.57676761e-01, -7.96627507e-01,\n",
       "         6.36363636e-01,  4.48604011e-01],\n",
       "       [-5.80916150e-01,  7.57676761e-01, -7.96627507e-01,\n",
       "         6.36363636e-01, -6.25518269e-01],\n",
       "       [ 3.49386930e-02, -1.31982404e+00,  1.25529183e+00,\n",
       "         6.36363636e-01, -6.25518269e-01],\n",
       "       [ 2.06009483e-01,  7.57676761e-01, -7.96627507e-01,\n",
       "         6.36363636e-01, -6.25518269e-01],\n",
       "       [ 1.10209841e-01, -1.31982404e+00, -7.96627507e-01,\n",
       "        -1.57142857e+00, -6.25518269e-01],\n",
       "       [-7.45144108e-01,  7.57676761e-01,  1.25529183e+00,\n",
       "        -1.57142857e+00, -6.25518269e-01],\n",
       "       [-1.03254303e+00,  7.57676761e-01,  1.25529183e+00,\n",
       "        -1.57142857e+00, -6.25518269e-01],\n",
       "       [ 4.59194251e-01,  7.57676761e-01,  1.25529183e+00,\n",
       "         6.36363636e-01,  1.52272629e+00],\n",
       "       [ 8.56078484e-01,  7.57676761e-01, -7.96627507e-01,\n",
       "         6.36363636e-01,  1.52272629e+00],\n",
       "       [ 8.21864326e-01,  7.57676761e-01,  1.25529183e+00,\n",
       "         6.36363636e-01, -6.25518269e-01],\n",
       "       [-4.03002529e-01,  7.57676761e-01, -7.96627507e-01,\n",
       "         6.36363636e-01, -6.25518269e-01],\n",
       "       [-7.45144108e-01,  7.57676761e-01,  1.25529183e+00,\n",
       "         6.36363636e-01,  1.52272629e+00],\n",
       "       [ 6.23422210e-01,  7.57676761e-01,  1.25529183e+00,\n",
       "         6.36363636e-01, -6.25518269e-01],\n",
       "       [ 4.04483800e+00,  7.57676761e-01, -7.96627507e-01,\n",
       "         6.36363636e-01,  1.52272629e+00],\n",
       "       [ 6.23422210e-01,  7.57676761e-01,  1.25529183e+00,\n",
       "         6.36363636e-01,  4.48604011e-01],\n",
       "       [-7.45144108e-01, -1.31982404e+00,  1.25529183e+00,\n",
       "         6.36363636e-01, -6.25518269e-01],\n",
       "       [-1.36099895e+00, -1.31982404e+00,  1.25529183e+00,\n",
       "         6.36363636e-01, -6.25518269e-01],\n",
       "       [-7.45144108e-01, -1.31982404e+00,  1.25529183e+00,\n",
       "         6.36363636e-01, -6.25518269e-01],\n",
       "       [-9.09372066e-01,  7.57676761e-01,  1.25529183e+00,\n",
       "         6.36363636e-01, -6.25518269e-01],\n",
       "       [-7.10929950e-01,  7.57676761e-01, -7.96627507e-01,\n",
       "         6.36363636e-01,  4.48604011e-01],\n",
       "       [ 1.88934605e+00,  7.57676761e-01, -7.96627507e-01,\n",
       "        -1.57142857e+00, -6.25518269e-01],\n",
       "       [-2.31931739e-01, -1.31982404e+00, -7.96627507e-01,\n",
       "         6.36363636e-01, -6.25518269e-01],\n",
       "       [-1.08728569e+00, -1.31982404e+00, -7.96627507e-01,\n",
       "         6.36363636e-01, -6.25518269e-01],\n",
       "       [-4.03002529e-01, -1.31982404e+00,  1.25529183e+00,\n",
       "        -1.57142857e+00, -6.25518269e-01],\n",
       "       [ 2.81280630e-01,  7.57676761e-01, -7.96627507e-01,\n",
       "         6.36363636e-01,  1.52272629e+00],\n",
       "       [-1.42942727e+00,  7.57676761e-01,  1.25529183e+00,\n",
       "         6.36363636e-01, -6.25518269e-01],\n",
       "       [-7.45144108e-01,  7.57676761e-01,  1.25529183e+00,\n",
       "         6.36363636e-01,  2.59684857e+00],\n",
       "       [ 7.53436010e-01, -1.31982404e+00,  1.25529183e+00,\n",
       "        -1.57142857e+00, -6.25518269e-01],\n",
       "       [-6.21973139e-01,  7.57676761e-01, -7.96627507e-01,\n",
       "        -1.57142857e+00,  4.48604011e-01],\n",
       "       [-1.29611281e-02, -1.31982404e+00, -7.96627507e-01,\n",
       "         6.36363636e-01,  4.48604011e-01],\n",
       "       [ 4.52351420e-01, -1.31982404e+00, -7.96627507e-01,\n",
       "         6.36363636e-01,  1.52272629e+00],\n",
       "       [-1.42974928e-01, -1.31982404e+00,  1.25529183e+00,\n",
       "         6.36363636e-01, -6.25518269e-01],\n",
       "       [-9.77800382e-01,  7.57676761e-01, -7.96627507e-01,\n",
       "         6.36363636e-01,  4.48604011e-01],\n",
       "       [ 1.44456200e+00, -1.31982404e+00, -7.96627507e-01,\n",
       "         6.36363636e-01,  1.52272629e+00],\n",
       "       [-7.45144108e-01,  7.57676761e-01, -7.96627507e-01,\n",
       "        -1.57142857e+00, -6.25518269e-01],\n",
       "       [-1.08728569e+00,  7.57676761e-01, -7.96627507e-01,\n",
       "        -1.57142857e+00, -6.25518269e-01],\n",
       "       [-7.45144108e-01,  7.57676761e-01, -7.96627507e-01,\n",
       "         6.36363636e-01, -6.25518269e-01],\n",
       "       [ 2.67594967e-01, -1.31982404e+00,  1.25529183e+00,\n",
       "         6.36363636e-01, -6.25518269e-01],\n",
       "       [-1.08728569e+00,  7.57676761e-01, -7.96627507e-01,\n",
       "         6.36363636e-01, -6.25518269e-01],\n",
       "       [ 1.35560519e+00,  7.57676761e-01, -7.96627507e-01,\n",
       "         6.36363636e-01,  1.52272629e+00],\n",
       "       [ 6.23422210e-01,  7.57676761e-01, -7.96627507e-01,\n",
       "        -1.57142857e+00, -6.25518269e-01],\n",
       "       [-7.45144108e-01, -1.31982404e+00,  1.25529183e+00,\n",
       "        -1.57142857e+00, -6.25518269e-01],\n",
       "       [-6.08287476e-01, -1.31982404e+00, -7.96627507e-01,\n",
       "         6.36363636e-01, -6.25518269e-01],\n",
       "       [ 2.33413011e+00, -1.31982404e+00,  1.25529183e+00,\n",
       "         6.36363636e-01,  4.48604011e-01],\n",
       "       [-7.45144108e-01,  7.57676761e-01,  1.25529183e+00,\n",
       "         6.36363636e-01,  4.48604011e-01],\n",
       "       [-9.64114719e-01, -1.31982404e+00, -7.96627507e-01,\n",
       "        -1.57142857e+00, -6.25518269e-01],\n",
       "       [-6.08609492e-02, -1.31982404e+00, -7.96627507e-01,\n",
       "         6.36363636e-01, -6.25518269e-01],\n",
       "       [ 6.78164862e-01,  7.57676761e-01, -7.96627507e-01,\n",
       "         6.36363636e-01, -6.25518269e-01],\n",
       "       [ 2.81280630e-01, -1.31982404e+00,  1.25529183e+00,\n",
       "         6.36363636e-01,  4.48604011e-01],\n",
       "       [-6.08609492e-02, -1.31982404e+00, -7.96627507e-01,\n",
       "         6.36363636e-01,  4.48604011e-01],\n",
       "       [ 6.64479199e-01,  7.57676761e-01,  1.25529183e+00,\n",
       "         6.36363636e-01, -6.25518269e-01],\n",
       "       [-4.71752860e-02, -1.31982404e+00, -7.96627507e-01,\n",
       "         6.36363636e-01, -6.25518269e-01],\n",
       "       [-1.42942727e+00, -1.31982404e+00,  1.25529183e+00,\n",
       "         6.36363636e-01, -6.25518269e-01],\n",
       "       [ 3.15494788e-01,  7.57676761e-01,  1.25529183e+00,\n",
       "         6.36363636e-01, -6.25518269e-01],\n",
       "       [-4.03002529e-01, -1.31982404e+00,  1.25529183e+00,\n",
       "         6.36363636e-01,  4.48604011e-01]])"
      ]
     },
     "execution_count": 30,
     "metadata": {},
     "output_type": "execute_result"
    }
   ],
   "source": [
    "X_train=scaler.fit_transform(X_train)\n",
    "X_train"
   ]
  },
  {
   "cell_type": "code",
   "execution_count": 31,
   "id": "045fdb9b",
   "metadata": {},
   "outputs": [],
   "source": [
    "X_test=scaler.transform(X_test)"
   ]
  },
  {
   "cell_type": "code",
   "execution_count": 32,
   "id": "1000e05d",
   "metadata": {},
   "outputs": [
    {
     "data": {
      "text/plain": [
       "array([[ 0.06231002,  0.75767676, -0.79662751,  0.63636364, -0.62551827],\n",
       "       [-0.74514411,  0.75767676, -0.79662751,  0.63636364, -0.62551827],\n",
       "       [-0.74514411,  0.75767676, -0.79662751,  0.63636364,  1.52272629],\n",
       "       [ 1.41719067,  0.75767676,  1.25529183,  0.63636364,  1.52272629],\n",
       "       [-0.74514411, -1.31982404,  1.25529183, -1.57142857, -0.62551827],\n",
       "       [-0.74514411,  0.75767676,  1.25529183,  0.63636364, -0.62551827],\n",
       "       [-0.36194554,  0.75767676,  1.25529183, -1.57142857, -0.62551827],\n",
       "       [-0.38931687, -1.31982404, -0.79662751, -1.57142857, -0.62551827],\n",
       "       [ 0.09652418,  0.75767676, -0.79662751,  0.63636364, -0.62551827],\n",
       "       [-0.06086095, -1.31982404,  1.25529183,  0.63636364, -0.62551827],\n",
       "       [-0.06086095,  0.75767676, -0.79662751,  0.63636364, -0.62551827],\n",
       "       [-1.10781418,  0.75767676, -0.79662751,  0.63636364, -0.62551827],\n",
       "       [-1.08728569, -1.31982404, -0.79662751, -1.57142857, -0.62551827],\n",
       "       [-0.74514411,  0.75767676,  1.25529183,  0.63636364, -0.62551827],\n",
       "       [-0.86147224, -1.31982404, -0.79662751, -1.57142857, -1.69964055],\n",
       "       [-1.18308533, -1.31982404, -0.79662751, -1.57142857,  0.44860401],\n",
       "       [ 0.62342221,  0.75767676,  1.25529183, -1.57142857,  0.44860401],\n",
       "       [ 0.56867956,  0.75767676, -0.79662751,  0.63636364, -0.62551827],\n",
       "       [-0.42353102, -1.31982404, -0.79662751,  0.63636364, -0.62551827],\n",
       "       [ 1.30770537,  0.75767676, -0.79662751, -1.57142857,  2.59684857],\n",
       "       [-0.43721669, -1.31982404, -0.79662751,  0.63636364,  1.52272629],\n",
       "       [ 0.17863816,  0.75767676, -0.79662751,  0.63636364,  0.44860401],\n",
       "       [ 0.62342221, -1.31982404,  1.25529183,  0.63636364, -0.62551827],\n",
       "       [-1.12149985,  0.75767676, -0.79662751,  0.63636364, -0.62551827],\n",
       "       [ 0.28128063, -1.31982404,  1.25529183,  0.63636364,  0.44860401],\n",
       "       [-0.53301633,  0.75767676, -0.79662751, -1.57142857, -0.62551827],\n",
       "       [-0.94358622,  0.75767676, -0.79662751,  0.63636364, -0.62551827],\n",
       "       [ 1.30770537, -1.31982404,  1.25529183,  0.63636364, -0.62551827],\n",
       "       [-0.74514411,  0.75767676, -0.79662751,  0.63636364,  1.52272629],\n",
       "       [ 1.30770537,  0.75767676, -0.79662751,  0.63636364,  3.67097085],\n",
       "       [ 0.62342221,  0.75767676, -0.79662751,  0.63636364,  0.44860401],\n",
       "       [-1.12834268,  0.75767676,  1.25529183,  0.63636364, -0.62551827],\n",
       "       [-0.51248783,  0.75767676, -0.79662751,  0.63636364,  1.52272629],\n",
       "       [ 0.08283851,  0.75767676,  1.25529183,  0.63636364, -0.62551827],\n",
       "       [ 0.28128063, -1.31982404, -0.79662751,  0.63636364,  0.44860401],\n",
       "       [-0.1156036 , -1.31982404, -0.79662751, -1.57142857,  1.52272629],\n",
       "       [-1.08728569,  0.75767676,  1.25529183,  0.63636364, -0.62551827],\n",
       "       [ 1.30770537, -1.31982404,  1.25529183, -1.57142857,  1.52272629],\n",
       "       [-0.23193174, -1.31982404, -0.79662751, -1.57142857, -0.62551827],\n",
       "       [-0.74514411,  0.75767676,  1.25529183,  0.63636364, -0.62551827],\n",
       "       [-1.25835648,  0.75767676, -0.79662751,  0.63636364, -0.62551827],\n",
       "       [-0.74514411, -1.31982404, -0.79662751, -1.57142857, -0.62551827],\n",
       "       [-0.36878837,  0.75767676, -0.79662751,  0.63636364, -0.62551827],\n",
       "       [-0.97095755, -1.31982404, -0.79662751,  0.63636364,  0.44860401],\n",
       "       [-0.74514411,  0.75767676,  1.25529183, -1.57142857, -0.62551827],\n",
       "       [-1.42942727, -1.31982404,  1.25529183,  0.63636364, -1.69964055],\n",
       "       [-1.01201454, -1.31982404,  1.25529183,  0.63636364, -0.62551827],\n",
       "       [-0.53301633,  0.75767676, -0.79662751,  0.63636364,  0.44860401],\n",
       "       [-1.12834268,  0.75767676, -0.79662751, -1.57142857, -0.62551827],\n",
       "       [-0.25246023,  0.75767676, -0.79662751,  0.63636364, -0.62551827],\n",
       "       [-0.72461561,  0.75767676,  1.25529183,  0.63636364, -0.62551827],\n",
       "       [ 0.62342221,  0.75767676,  1.25529183,  0.63636364, -0.62551827],\n",
       "       [ 0.96556379,  0.75767676, -0.79662751,  0.63636364,  1.52272629],\n",
       "       [-0.72461561,  0.75767676, -0.79662751, -1.57142857, -0.62551827],\n",
       "       [ 0.28812346,  0.75767676, -0.79662751,  0.63636364, -0.62551827],\n",
       "       [-0.74514411,  0.75767676, -0.79662751, -1.57142857, -0.62551827],\n",
       "       [ 1.41034784,  0.75767676,  1.25529183,  0.63636364, -0.62551827],\n",
       "       [-0.9162149 ,  0.75767676, -0.79662751,  0.63636364, -0.62551827],\n",
       "       [-0.23877457,  0.75767676, -0.79662751,  0.63636364,  0.44860401],\n",
       "       [-0.06086095,  0.75767676,  1.25529183,  0.63636364,  0.44860401],\n",
       "       [ 1.40350501, -1.31982404, -0.79662751,  0.63636364,  2.59684857],\n",
       "       [ 0.28128063, -1.31982404, -0.79662751,  0.63636364, -0.62551827],\n",
       "       [ 1.75248942,  0.75767676,  1.25529183,  0.63636364, -0.62551827],\n",
       "       [-0.40300253, -1.31982404,  1.25529183, -1.57142857, -0.62551827],\n",
       "       [-0.73830128,  0.75767676, -0.79662751,  0.63636364, -0.62551827],\n",
       "       [ 0.67816486, -1.31982404, -0.79662751,  0.63636364, -0.62551827],\n",
       "       [-0.68355862,  0.75767676,  1.25529183,  0.63636364, -0.62551827],\n",
       "       [-1.42942727, -1.31982404, -0.79662751,  0.63636364, -1.69964055],\n",
       "       [ 0.21969515,  0.75767676,  1.25529183,  0.63636364,  0.44860401],\n",
       "       [ 0.26759497,  0.75767676, -0.79662751,  0.63636364,  0.44860401],\n",
       "       [-0.74514411,  0.75767676, -0.79662751,  0.63636364,  1.52272629],\n",
       "       [-0.06086095,  0.75767676,  1.25529183,  0.63636364,  2.59684857],\n",
       "       [-0.25930307,  0.75767676, -0.79662751, -1.57142857, -0.62551827],\n",
       "       [-0.06086095, -1.31982404, -0.79662751,  0.63636364, -0.62551827]])"
      ]
     },
     "execution_count": 32,
     "metadata": {},
     "output_type": "execute_result"
    }
   ],
   "source": [
    "X_test"
   ]
  },
  {
   "cell_type": "code",
   "execution_count": 33,
   "id": "248f403c",
   "metadata": {},
   "outputs": [],
   "source": [
    "from sklearn.linear_model import LinearRegression\n",
    "from sklearn.model_selection import cross_val_score\n"
   ]
  },
  {
   "cell_type": "code",
   "execution_count": 34,
   "id": "2e15914a",
   "metadata": {},
   "outputs": [
    {
     "data": {
      "text/html": [
       "<style>#sk-container-id-1 {color: black;}#sk-container-id-1 pre{padding: 0;}#sk-container-id-1 div.sk-toggleable {background-color: white;}#sk-container-id-1 label.sk-toggleable__label {cursor: pointer;display: block;width: 100%;margin-bottom: 0;padding: 0.3em;box-sizing: border-box;text-align: center;}#sk-container-id-1 label.sk-toggleable__label-arrow:before {content: \"▸\";float: left;margin-right: 0.25em;color: #696969;}#sk-container-id-1 label.sk-toggleable__label-arrow:hover:before {color: black;}#sk-container-id-1 div.sk-estimator:hover label.sk-toggleable__label-arrow:before {color: black;}#sk-container-id-1 div.sk-toggleable__content {max-height: 0;max-width: 0;overflow: hidden;text-align: left;background-color: #f0f8ff;}#sk-container-id-1 div.sk-toggleable__content pre {margin: 0.2em;color: black;border-radius: 0.25em;background-color: #f0f8ff;}#sk-container-id-1 input.sk-toggleable__control:checked~div.sk-toggleable__content {max-height: 200px;max-width: 100%;overflow: auto;}#sk-container-id-1 input.sk-toggleable__control:checked~label.sk-toggleable__label-arrow:before {content: \"▾\";}#sk-container-id-1 div.sk-estimator input.sk-toggleable__control:checked~label.sk-toggleable__label {background-color: #d4ebff;}#sk-container-id-1 div.sk-label input.sk-toggleable__control:checked~label.sk-toggleable__label {background-color: #d4ebff;}#sk-container-id-1 input.sk-hidden--visually {border: 0;clip: rect(1px 1px 1px 1px);clip: rect(1px, 1px, 1px, 1px);height: 1px;margin: -1px;overflow: hidden;padding: 0;position: absolute;width: 1px;}#sk-container-id-1 div.sk-estimator {font-family: monospace;background-color: #f0f8ff;border: 1px dotted black;border-radius: 0.25em;box-sizing: border-box;margin-bottom: 0.5em;}#sk-container-id-1 div.sk-estimator:hover {background-color: #d4ebff;}#sk-container-id-1 div.sk-parallel-item::after {content: \"\";width: 100%;border-bottom: 1px solid gray;flex-grow: 1;}#sk-container-id-1 div.sk-label:hover label.sk-toggleable__label {background-color: #d4ebff;}#sk-container-id-1 div.sk-serial::before {content: \"\";position: absolute;border-left: 1px solid gray;box-sizing: border-box;top: 0;bottom: 0;left: 50%;z-index: 0;}#sk-container-id-1 div.sk-serial {display: flex;flex-direction: column;align-items: center;background-color: white;padding-right: 0.2em;padding-left: 0.2em;position: relative;}#sk-container-id-1 div.sk-item {position: relative;z-index: 1;}#sk-container-id-1 div.sk-parallel {display: flex;align-items: stretch;justify-content: center;background-color: white;position: relative;}#sk-container-id-1 div.sk-item::before, #sk-container-id-1 div.sk-parallel-item::before {content: \"\";position: absolute;border-left: 1px solid gray;box-sizing: border-box;top: 0;bottom: 0;left: 50%;z-index: -1;}#sk-container-id-1 div.sk-parallel-item {display: flex;flex-direction: column;z-index: 1;position: relative;background-color: white;}#sk-container-id-1 div.sk-parallel-item:first-child::after {align-self: flex-end;width: 50%;}#sk-container-id-1 div.sk-parallel-item:last-child::after {align-self: flex-start;width: 50%;}#sk-container-id-1 div.sk-parallel-item:only-child::after {width: 0;}#sk-container-id-1 div.sk-dashed-wrapped {border: 1px dashed gray;margin: 0 0.4em 0.5em 0.4em;box-sizing: border-box;padding-bottom: 0.4em;background-color: white;}#sk-container-id-1 div.sk-label label {font-family: monospace;font-weight: bold;display: inline-block;line-height: 1.2em;}#sk-container-id-1 div.sk-label-container {text-align: center;}#sk-container-id-1 div.sk-container {/* jupyter's `normalize.less` sets `[hidden] { display: none; }` but bootstrap.min.css set `[hidden] { display: none !important; }` so we also need the `!important` here to be able to override the default hidden behavior on the sphinx rendered scikit-learn.org. See: https://github.com/scikit-learn/scikit-learn/issues/21755 */display: inline-block !important;position: relative;}#sk-container-id-1 div.sk-text-repr-fallback {display: none;}</style><div id=\"sk-container-id-1\" class=\"sk-top-container\"><div class=\"sk-text-repr-fallback\"><pre>LinearRegression()</pre><b>In a Jupyter environment, please rerun this cell to show the HTML representation or trust the notebook. <br />On GitHub, the HTML representation is unable to render, please try loading this page with nbviewer.org.</b></div><div class=\"sk-container\" hidden><div class=\"sk-item\"><div class=\"sk-estimator sk-toggleable\"><input class=\"sk-toggleable__control sk-hidden--visually\" id=\"sk-estimator-id-1\" type=\"checkbox\" checked><label for=\"sk-estimator-id-1\" class=\"sk-toggleable__label sk-toggleable__label-arrow\">LinearRegression</label><div class=\"sk-toggleable__content\"><pre>LinearRegression()</pre></div></div></div></div></div>"
      ],
      "text/plain": [
       "LinearRegression()"
      ]
     },
     "execution_count": 34,
     "metadata": {},
     "output_type": "execute_result"
    }
   ],
   "source": [
    "regression= LinearRegression()\n",
    "regression.fit(X_train,y_train)"
   ]
  },
  {
   "cell_type": "code",
   "execution_count": 35,
   "id": "e3eb67ae",
   "metadata": {},
   "outputs": [],
   "source": [
    "mse=cross_val_score(regression,X_train,y_train,scoring='neg_mean_squared_error',cv=10)"
   ]
  },
  {
   "cell_type": "code",
   "execution_count": 36,
   "id": "4b17ebc8",
   "metadata": {},
   "outputs": [
    {
     "data": {
      "text/plain": [
       "array([-26.22380399, -21.16451389, -37.1573097 , -21.21891601,\n",
       "       -67.83288367, -36.60426531, -39.59756364, -36.48816171,\n",
       "       -28.85610172, -57.45145054])"
      ]
     },
     "execution_count": 36,
     "metadata": {},
     "output_type": "execute_result"
    }
   ],
   "source": [
    "mse"
   ]
  },
  {
   "cell_type": "code",
   "execution_count": 37,
   "id": "a8805d58",
   "metadata": {},
   "outputs": [
    {
     "data": {
      "text/plain": [
       "-37.259497015923685"
      ]
     },
     "execution_count": 37,
     "metadata": {},
     "output_type": "execute_result"
    }
   ],
   "source": [
    "np.mean(mse)"
   ]
  },
  {
   "cell_type": "code",
   "execution_count": 38,
   "id": "4b485219",
   "metadata": {},
   "outputs": [],
   "source": [
    "reg_predict=regression.predict(X_test)"
   ]
  },
  {
   "cell_type": "code",
   "execution_count": 39,
   "id": "b159c2fc",
   "metadata": {},
   "outputs": [
    {
     "data": {
      "text/plain": [
       "array([18.16026496, 14.48530875, 20.55847495, 33.53737822, 14.34160794,\n",
       "       17.62280385, 16.92814768, 12.82358507, 18.31598344, 19.89468081,\n",
       "       17.59967842, 12.83469282,  9.646928  , 17.62280385,  7.63808689,\n",
       "       12.24749935, 24.44942311, 20.46489852, 15.10656978, 30.49946388,\n",
       "       21.11744859, 21.72629091, 23.00905048, 12.77240543, 24.48844875,\n",
       "       13.01206015, 13.58214154, 26.12342015, 20.55847495, 35.97475017,\n",
       "       23.75063119, 15.87875683, 21.61736064, 21.39119115, 21.35095364,\n",
       "       20.14249914, 16.06561901, 29.75788317, 13.5398901 , 17.62280385,\n",
       "       12.14953149, 11.20411284, 16.19821207, 15.65165714, 15.18410066,\n",
       "       10.62935836, 15.56570696, 18.48734645, 10.30255854, 16.72765491,\n",
       "       17.71623494, 23.8515432 , 28.34439913, 12.14003665, 19.18800695,\n",
       "       12.04660556, 27.43306832, 13.70671633, 19.82652541, 23.77375663,\n",
       "       32.53168611, 18.31437054, 28.99025316, 15.89879278, 14.51645244,\n",
       "       20.12070495, 17.90309712,  7.49186325, 25.05064819, 22.13115896,\n",
       "       20.55847495, 29.84692283, 14.25780802, 16.7571857 ])"
      ]
     },
     "execution_count": 39,
     "metadata": {},
     "output_type": "execute_result"
    }
   ],
   "source": [
    "reg_predict"
   ]
  },
  {
   "cell_type": "code",
   "execution_count": 40,
   "id": "4b34a816",
   "metadata": {},
   "outputs": [
    {
     "name": "stderr",
     "output_type": "stream",
     "text": [
      "C:\\Users\\dell\\anaconda3\\Lib\\site-packages\\seaborn\\axisgrid.py:118: UserWarning: The figure layout has changed to tight\n",
      "  self._figure.tight_layout(*args, **kwargs)\n"
     ]
    },
    {
     "data": {
      "text/plain": [
       "<seaborn.axisgrid.FacetGrid at 0x12922fa0c50>"
      ]
     },
     "execution_count": 40,
     "metadata": {},
     "output_type": "execute_result"
    },
    {
     "data": {
      "image/png": "[encoded data removed]",
      "text/plain": [
       "<Figure size 500x500 with 1 Axes>"
      ]
     },
     "metadata": {},
     "output_type": "display_data"
    }
   ],
   "source": [
    "import seaborn as sns\n",
    "sns.displot(reg_predict-y_test,kind='kde')\n",
    "\n"
   ]
  },
  {
   "cell_type": "code",
   "execution_count": 41,
   "id": "3eb0b111",
   "metadata": {},
   "outputs": [],
   "source": [
    "from sklearn.metrics import r2_score"
   ]
  },
  {
   "cell_type": "code",
   "execution_count": 42,
   "id": "50dc374c",
   "metadata": {},
   "outputs": [],
   "source": [
    "score=r2_score(reg_predict,y_test)"
   ]
  },
  {
   "cell_type": "code",
   "execution_count": 43,
   "id": "d37c228e",
   "metadata": {},
   "outputs": [
    {
     "data": {
      "text/plain": [
       "0.17211345148724144"
      ]
     },
     "execution_count": 43,
     "metadata": {},
     "output_type": "execute_result"
    }
   ],
   "source": [
    "score"
   ]
  },
  {
   "cell_type": "code",
   "execution_count": 44,
   "id": "cda1e274",
   "metadata": {},
   "outputs": [],
   "source": [
    "from sklearn.linear_model import Ridge\n",
    "from sklearn.model_selection import GridSearchCV"
   ]
  },
  {
   "cell_type": "code",
   "execution_count": 45,
   "id": "c126bd98",
   "metadata": {},
   "outputs": [],
   "source": [
    "ridge_regressor=Ridge()"
   ]
  },
  {
   "cell_type": "code",
   "execution_count": 46,
   "id": "0a771885",
   "metadata": {},
   "outputs": [
    {
     "data": {
      "text/html": [
       "<style>#sk-container-id-2 {color: black;}#sk-container-id-2 pre{padding: 0;}#sk-container-id-2 div.sk-toggleable {background-color: white;}#sk-container-id-2 label.sk-toggleable__label {cursor: pointer;display: block;width: 100%;margin-bottom: 0;padding: 0.3em;box-sizing: border-box;text-align: center;}#sk-container-id-2 label.sk-toggleable__label-arrow:before {content: \"▸\";float: left;margin-right: 0.25em;color: #696969;}#sk-container-id-2 label.sk-toggleable__label-arrow:hover:before {color: black;}#sk-container-id-2 div.sk-estimator:hover label.sk-toggleable__label-arrow:before {color: black;}#sk-container-id-2 div.sk-toggleable__content {max-height: 0;max-width: 0;overflow: hidden;text-align: left;background-color: #f0f8ff;}#sk-container-id-2 div.sk-toggleable__content pre {margin: 0.2em;color: black;border-radius: 0.25em;background-color: #f0f8ff;}#sk-container-id-2 input.sk-toggleable__control:checked~div.sk-toggleable__content {max-height: 200px;max-width: 100%;overflow: auto;}#sk-container-id-2 input.sk-toggleable__control:checked~label.sk-toggleable__label-arrow:before {content: \"▾\";}#sk-container-id-2 div.sk-estimator input.sk-toggleable__control:checked~label.sk-toggleable__label {background-color: #d4ebff;}#sk-container-id-2 div.sk-label input.sk-toggleable__control:checked~label.sk-toggleable__label {background-color: #d4ebff;}#sk-container-id-2 input.sk-hidden--visually {border: 0;clip: rect(1px 1px 1px 1px);clip: rect(1px, 1px, 1px, 1px);height: 1px;margin: -1px;overflow: hidden;padding: 0;position: absolute;width: 1px;}#sk-container-id-2 div.sk-estimator {font-family: monospace;background-color: #f0f8ff;border: 1px dotted black;border-radius: 0.25em;box-sizing: border-box;margin-bottom: 0.5em;}#sk-container-id-2 div.sk-estimator:hover {background-color: #d4ebff;}#sk-container-id-2 div.sk-parallel-item::after {content: \"\";width: 100%;border-bottom: 1px solid gray;flex-grow: 1;}#sk-container-id-2 div.sk-label:hover label.sk-toggleable__label {background-color: #d4ebff;}#sk-container-id-2 div.sk-serial::before {content: \"\";position: absolute;border-left: 1px solid gray;box-sizing: border-box;top: 0;bottom: 0;left: 50%;z-index: 0;}#sk-container-id-2 div.sk-serial {display: flex;flex-direction: column;align-items: center;background-color: white;padding-right: 0.2em;padding-left: 0.2em;position: relative;}#sk-container-id-2 div.sk-item {position: relative;z-index: 1;}#sk-container-id-2 div.sk-parallel {display: flex;align-items: stretch;justify-content: center;background-color: white;position: relative;}#sk-container-id-2 div.sk-item::before, #sk-container-id-2 div.sk-parallel-item::before {content: \"\";position: absolute;border-left: 1px solid gray;box-sizing: border-box;top: 0;bottom: 0;left: 50%;z-index: -1;}#sk-container-id-2 div.sk-parallel-item {display: flex;flex-direction: column;z-index: 1;position: relative;background-color: white;}#sk-container-id-2 div.sk-parallel-item:first-child::after {align-self: flex-end;width: 50%;}#sk-container-id-2 div.sk-parallel-item:last-child::after {align-self: flex-start;width: 50%;}#sk-container-id-2 div.sk-parallel-item:only-child::after {width: 0;}#sk-container-id-2 div.sk-dashed-wrapped {border: 1px dashed gray;margin: 0 0.4em 0.5em 0.4em;box-sizing: border-box;padding-bottom: 0.4em;background-color: white;}#sk-container-id-2 div.sk-label label {font-family: monospace;font-weight: bold;display: inline-block;line-height: 1.2em;}#sk-container-id-2 div.sk-label-container {text-align: center;}#sk-container-id-2 div.sk-container {/* jupyter's `normalize.less` sets `[hidden] { display: none; }` but bootstrap.min.css set `[hidden] { display: none !important; }` so we also need the `!important` here to be able to override the default hidden behavior on the sphinx rendered scikit-learn.org. See: https://github.com/scikit-learn/scikit-learn/issues/21755 */display: inline-block !important;position: relative;}#sk-container-id-2 div.sk-text-repr-fallback {display: none;}</style><div id=\"sk-container-id-2\" class=\"sk-top-container\"><div class=\"sk-text-repr-fallback\"><pre>GridSearchCV(cv=10, estimator=Ridge(),\n",
       "             param_grid={&#x27;alpha&#x27;: [1, 2, 5, 10, 20, 30, 40, 50, 60, 70, 80,\n",
       "                                   90]},\n",
       "             scoring=&#x27;neg_mean_squared_error&#x27;)</pre><b>In a Jupyter environment, please rerun this cell to show the HTML representation or trust the notebook. <br />On GitHub, the HTML representation is unable to render, please try loading this page with nbviewer.org.</b></div><div class=\"sk-container\" hidden><div class=\"sk-item sk-dashed-wrapped\"><div class=\"sk-label-container\"><div class=\"sk-label sk-toggleable\"><input class=\"sk-toggleable__control sk-hidden--visually\" id=\"sk-estimator-id-2\" type=\"checkbox\" ><label for=\"sk-estimator-id-2\" class=\"sk-toggleable__label sk-toggleable__label-arrow\">GridSearchCV</label><div class=\"sk-toggleable__content\"><pre>GridSearchCV(cv=10, estimator=Ridge(),\n",
       "             param_grid={&#x27;alpha&#x27;: [1, 2, 5, 10, 20, 30, 40, 50, 60, 70, 80,\n",
       "                                   90]},\n",
       "             scoring=&#x27;neg_mean_squared_error&#x27;)</pre></div></div></div><div class=\"sk-parallel\"><div class=\"sk-parallel-item\"><div class=\"sk-item\"><div class=\"sk-label-container\"><div class=\"sk-label sk-toggleable\"><input class=\"sk-toggleable__control sk-hidden--visually\" id=\"sk-estimator-id-3\" type=\"checkbox\" ><label for=\"sk-estimator-id-3\" class=\"sk-toggleable__label sk-toggleable__label-arrow\">estimator: Ridge</label><div class=\"sk-toggleable__content\"><pre>Ridge()</pre></div></div></div><div class=\"sk-serial\"><div class=\"sk-item\"><div class=\"sk-estimator sk-toggleable\"><input class=\"sk-toggleable__control sk-hidden--visually\" id=\"sk-estimator-id-4\" type=\"checkbox\" ><label for=\"sk-estimator-id-4\" class=\"sk-toggleable__label sk-toggleable__label-arrow\">Ridge</label><div class=\"sk-toggleable__content\"><pre>Ridge()</pre></div></div></div></div></div></div></div></div></div></div>"
      ],
      "text/plain": [
       "GridSearchCV(cv=10, estimator=Ridge(),\n",
       "             param_grid={'alpha': [1, 2, 5, 10, 20, 30, 40, 50, 60, 70, 80,\n",
       "                                   90]},\n",
       "             scoring='neg_mean_squared_error')"
      ]
     },
     "execution_count": 46,
     "metadata": {},
     "output_type": "execute_result"
    }
   ],
   "source": [
    "parameters={'alpha':[1,2,5,10,20,30,40,50,60,70,80,90]}\n",
    "ridgecv=GridSearchCV(ridge_regressor,parameters,scoring='neg_mean_squared_error',cv=10)\n",
    "ridgecv.fit(X_train,y_train)"
   ]
  },
  {
   "cell_type": "code",
   "execution_count": 47,
   "id": "bcdbf4ff",
   "metadata": {},
   "outputs": [
    {
     "name": "stdout",
     "output_type": "stream",
     "text": [
      "{'alpha': 5}\n"
     ]
    }
   ],
   "source": [
    "print(ridgecv.best_params_)"
   ]
  },
  {
   "cell_type": "code",
   "execution_count": 48,
   "id": "1cb7ba06",
   "metadata": {},
   "outputs": [
    {
     "name": "stdout",
     "output_type": "stream",
     "text": [
      "-37.213301991780845\n"
     ]
    }
   ],
   "source": [
    "print(ridgecv.best_score_)"
   ]
  },
  {
   "cell_type": "code",
   "execution_count": 49,
   "id": "bd7e99f3",
   "metadata": {},
   "outputs": [],
   "source": [
    "ridge_pred=ridgecv.predict(X_test)"
   ]
  },
  {
   "cell_type": "code",
   "execution_count": 50,
   "id": "03241029",
   "metadata": {},
   "outputs": [
    {
     "data": {
      "text/plain": [
       "array([18.20928718, 14.62945113, 20.64252682, 33.25943061, 14.39180363,\n",
       "       17.65967534, 16.94705932, 12.93913429, 18.36097514, 19.83708425,\n",
       "       17.66321049, 13.02155867,  9.84469974, 17.65967534,  7.83930248,\n",
       "       12.42651128, 24.32221065, 20.4542691 , 15.19896758, 30.33882149,\n",
       "       21.15136808, 21.73156411, 22.87084361, 12.96088348, 24.36050178,\n",
       "       13.15839527, 13.74966091, 25.90460297, 20.64252682, 35.7568806 ,\n",
       "       23.7035077 , 15.96077009, 21.674005  , 21.33052417, 21.33027757,\n",
       "       20.16571373, 16.14279566, 29.50615741, 13.63689894, 17.65967534,\n",
       "       12.35413161, 11.36157942, 16.29801878, 15.77849794, 15.24815408,\n",
       "       10.76302768, 15.62015874, 18.57645438, 10.51902463, 16.81375787,\n",
       "       17.75068812, 23.72719406, 28.22692523, 12.30894265, 19.21042776,\n",
       "       12.21792987, 27.21601733, 13.87101129, 19.8809709 , 23.69997255,\n",
       "       32.31871861, 18.32373972, 28.73289701, 15.90868331, 14.65978872,\n",
       "       20.08332015, 17.93271368,  7.73280347, 24.94381388, 22.12595283,\n",
       "       20.64252682, 29.71304824, 14.37189902, 16.80686004])"
      ]
     },
     "execution_count": 50,
     "metadata": {},
     "output_type": "execute_result"
    }
   ],
   "source": [
    "ridge_pred"
   ]
  },
  {
   "cell_type": "code",
   "execution_count": 51,
   "id": "f3cd5ee8",
   "metadata": {},
   "outputs": [
    {
     "name": "stderr",
     "output_type": "stream",
     "text": [
      "C:\\Users\\dell\\anaconda3\\Lib\\site-packages\\seaborn\\axisgrid.py:118: UserWarning: The figure layout has changed to tight\n",
      "  self._figure.tight_layout(*args, **kwargs)\n"
     ]
    },
    {
     "data": {
      "text/plain": [
       "<seaborn.axisgrid.FacetGrid at 0x129238e2f50>"
      ]
     },
     "execution_count": 51,
     "metadata": {},
     "output_type": "execute_result"
    },
    {
     "data": {
      "image/png": "[encoded data removed]",
      "text/plain": [
       "<Figure size 500x500 with 1 Axes>"
      ]
     },
     "metadata": {},
     "output_type": "display_data"
    }
   ],
   "source": [
    "import seaborn as sns\n",
    "sns.displot(ridge_pred-y_test,kind='kde')"
   ]
  },
  {
   "cell_type": "code",
   "execution_count": 52,
   "id": "75661069",
   "metadata": {},
   "outputs": [
    {
     "data": {
      "text/plain": [
       "0.17211345148724144"
      ]
     },
     "execution_count": 52,
     "metadata": {},
     "output_type": "execute_result"
    }
   ],
   "source": [
    "from sklearn.metrics import r2_score\n",
    "score=r2_score(reg_predict,y_test)\n",
    "score"
   ]
  },
  {
   "cell_type": "code",
   "execution_count": 53,
   "id": "94411d5b",
   "metadata": {},
   "outputs": [
    {
     "data": {
      "text/html": [
       "<div>\n",
       "<style scoped>\n",
       "    .dataframe tbody tr th:only-of-type {\n",
       "        vertical-align: middle;\n",
       "    }\n",
       "\n",
       "    .dataframe tbody tr th {\n",
       "        vertical-align: top;\n",
       "    }\n",
       "\n",
       "    .dataframe thead th {\n",
       "        text-align: right;\n",
       "    }\n",
       "</style>\n",
       "<table border=\"1\" class=\"dataframe\">\n",
       "  <thead>\n",
       "    <tr style=\"text-align: right;\">\n",
       "      <th></th>\n",
       "      <th>total_bill</th>\n",
       "      <th>tip</th>\n",
       "      <th>sex</th>\n",
       "      <th>smoker</th>\n",
       "      <th>time</th>\n",
       "      <th>size</th>\n",
       "    </tr>\n",
       "  </thead>\n",
       "  <tbody>\n",
       "    <tr>\n",
       "      <th>0</th>\n",
       "      <td>16</td>\n",
       "      <td>1.01</td>\n",
       "      <td>0</td>\n",
       "      <td>0</td>\n",
       "      <td>1</td>\n",
       "      <td>2</td>\n",
       "    </tr>\n",
       "    <tr>\n",
       "      <th>1</th>\n",
       "      <td>10</td>\n",
       "      <td>1.66</td>\n",
       "      <td>1</td>\n",
       "      <td>0</td>\n",
       "      <td>1</td>\n",
       "      <td>3</td>\n",
       "    </tr>\n",
       "    <tr>\n",
       "      <th>2</th>\n",
       "      <td>21</td>\n",
       "      <td>3.50</td>\n",
       "      <td>1</td>\n",
       "      <td>0</td>\n",
       "      <td>1</td>\n",
       "      <td>3</td>\n",
       "    </tr>\n",
       "    <tr>\n",
       "      <th>3</th>\n",
       "      <td>23</td>\n",
       "      <td>3.31</td>\n",
       "      <td>1</td>\n",
       "      <td>0</td>\n",
       "      <td>1</td>\n",
       "      <td>2</td>\n",
       "    </tr>\n",
       "    <tr>\n",
       "      <th>4</th>\n",
       "      <td>24</td>\n",
       "      <td>3.61</td>\n",
       "      <td>0</td>\n",
       "      <td>0</td>\n",
       "      <td>1</td>\n",
       "      <td>4</td>\n",
       "    </tr>\n",
       "  </tbody>\n",
       "</table>\n",
       "</div>"
      ],
      "text/plain": [
       "   total_bill   tip  sex  smoker  time  size\n",
       "0          16  1.01    0       0     1     2\n",
       "1          10  1.66    1       0     1     3\n",
       "2          21  3.50    1       0     1     3\n",
       "3          23  3.31    1       0     1     2\n",
       "4          24  3.61    0       0     1     4"
      ]
     },
     "execution_count": 53,
     "metadata": {},
     "output_type": "execute_result"
    }
   ],
   "source": [
    "df.head()"
   ]
  },
  {
   "cell_type": "code",
   "execution_count": 57,
   "id": "e658fe55",
   "metadata": {},
   "outputs": [],
   "source": [
    "from sklearn.linear_model import Lasso\n",
    "from sklearn.model_selection import GridSearchCV\n",
    "lasso=Lasso()"
   ]
  },
  {
   "cell_type": "code",
   "execution_count": 65,
   "id": "02356afc",
   "metadata": {},
   "outputs": [
    {
     "name": "stderr",
     "output_type": "stream",
     "text": [
      "C:\\Users\\dell\\anaconda3\\Lib\\site-packages\\sklearn\\linear_model\\_coordinate_descent.py:628: ConvergenceWarning: Objective did not converge. You might want to increase the number of iterations, check the scale of the features or consider increasing regularisation. Duality gap: 1.378e+02, tolerance: 1.073e+00\n",
      "  model = cd_fast.enet_coordinate_descent(\n",
      "C:\\Users\\dell\\anaconda3\\Lib\\site-packages\\sklearn\\linear_model\\_coordinate_descent.py:628: ConvergenceWarning: Objective did not converge. You might want to increase the number of iterations, check the scale of the features or consider increasing regularisation. Duality gap: 5.948e+01, tolerance: 1.075e+00\n",
      "  model = cd_fast.enet_coordinate_descent(\n"
     ]
    },
    {
     "data": {
      "text/html": [
       "<style>#sk-container-id-4 {color: black;}#sk-container-id-4 pre{padding: 0;}#sk-container-id-4 div.sk-toggleable {background-color: white;}#sk-container-id-4 label.sk-toggleable__label {cursor: pointer;display: block;width: 100%;margin-bottom: 0;padding: 0.3em;box-sizing: border-box;text-align: center;}#sk-container-id-4 label.sk-toggleable__label-arrow:before {content: \"▸\";float: left;margin-right: 0.25em;color: #696969;}#sk-container-id-4 label.sk-toggleable__label-arrow:hover:before {color: black;}#sk-container-id-4 div.sk-estimator:hover label.sk-toggleable__label-arrow:before {color: black;}#sk-container-id-4 div.sk-toggleable__content {max-height: 0;max-width: 0;overflow: hidden;text-align: left;background-color: #f0f8ff;}#sk-container-id-4 div.sk-toggleable__content pre {margin: 0.2em;color: black;border-radius: 0.25em;background-color: #f0f8ff;}#sk-container-id-4 input.sk-toggleable__control:checked~div.sk-toggleable__content {max-height: 200px;max-width: 100%;overflow: auto;}#sk-container-id-4 input.sk-toggleable__control:checked~label.sk-toggleable__label-arrow:before {content: \"▾\";}#sk-container-id-4 div.sk-estimator input.sk-toggleable__control:checked~label.sk-toggleable__label {background-color: #d4ebff;}#sk-container-id-4 div.sk-label input.sk-toggleable__control:checked~label.sk-toggleable__label {background-color: #d4ebff;}#sk-container-id-4 input.sk-hidden--visually {border: 0;clip: rect(1px 1px 1px 1px);clip: rect(1px, 1px, 1px, 1px);height: 1px;margin: -1px;overflow: hidden;padding: 0;position: absolute;width: 1px;}#sk-container-id-4 div.sk-estimator {font-family: monospace;background-color: #f0f8ff;border: 1px dotted black;border-radius: 0.25em;box-sizing: border-box;margin-bottom: 0.5em;}#sk-container-id-4 div.sk-estimator:hover {background-color: #d4ebff;}#sk-container-id-4 div.sk-parallel-item::after {content: \"\";width: 100%;border-bottom: 1px solid gray;flex-grow: 1;}#sk-container-id-4 div.sk-label:hover label.sk-toggleable__label {background-color: #d4ebff;}#sk-container-id-4 div.sk-serial::before {content: \"\";position: absolute;border-left: 1px solid gray;box-sizing: border-box;top: 0;bottom: 0;left: 50%;z-index: 0;}#sk-container-id-4 div.sk-serial {display: flex;flex-direction: column;align-items: center;background-color: white;padding-right: 0.2em;padding-left: 0.2em;position: relative;}#sk-container-id-4 div.sk-item {position: relative;z-index: 1;}#sk-container-id-4 div.sk-parallel {display: flex;align-items: stretch;justify-content: center;background-color: white;position: relative;}#sk-container-id-4 div.sk-item::before, #sk-container-id-4 div.sk-parallel-item::before {content: \"\";position: absolute;border-left: 1px solid gray;box-sizing: border-box;top: 0;bottom: 0;left: 50%;z-index: -1;}#sk-container-id-4 div.sk-parallel-item {display: flex;flex-direction: column;z-index: 1;position: relative;background-color: white;}#sk-container-id-4 div.sk-parallel-item:first-child::after {align-self: flex-end;width: 50%;}#sk-container-id-4 div.sk-parallel-item:last-child::after {align-self: flex-start;width: 50%;}#sk-container-id-4 div.sk-parallel-item:only-child::after {width: 0;}#sk-container-id-4 div.sk-dashed-wrapped {border: 1px dashed gray;margin: 0 0.4em 0.5em 0.4em;box-sizing: border-box;padding-bottom: 0.4em;background-color: white;}#sk-container-id-4 div.sk-label label {font-family: monospace;font-weight: bold;display: inline-block;line-height: 1.2em;}#sk-container-id-4 div.sk-label-container {text-align: center;}#sk-container-id-4 div.sk-container {/* jupyter's `normalize.less` sets `[hidden] { display: none; }` but bootstrap.min.css set `[hidden] { display: none !important; }` so we also need the `!important` here to be able to override the default hidden behavior on the sphinx rendered scikit-learn.org. See: https://github.com/scikit-learn/scikit-learn/issues/21755 */display: inline-block !important;position: relative;}#sk-container-id-4 div.sk-text-repr-fallback {display: none;}</style><div id=\"sk-container-id-4\" class=\"sk-top-container\"><div class=\"sk-text-repr-fallback\"><pre>GridSearchCV(cv=5, estimator=Lasso(),\n",
       "             param_grid={&#x27;alpha&#x27;: [1e-15, 1e-10, 1e-08, 0.001, 0.01, 1, 5, 10,\n",
       "                                   20, 30, 40, 50, 60, 70, 80, 90, 100]},\n",
       "             scoring=&#x27;neg_mean_squared_error&#x27;)</pre><b>In a Jupyter environment, please rerun this cell to show the HTML representation or trust the notebook. <br />On GitHub, the HTML representation is unable to render, please try loading this page with nbviewer.org.</b></div><div class=\"sk-container\" hidden><div class=\"sk-item sk-dashed-wrapped\"><div class=\"sk-label-container\"><div class=\"sk-label sk-toggleable\"><input class=\"sk-toggleable__control sk-hidden--visually\" id=\"sk-estimator-id-8\" type=\"checkbox\" ><label for=\"sk-estimator-id-8\" class=\"sk-toggleable__label sk-toggleable__label-arrow\">GridSearchCV</label><div class=\"sk-toggleable__content\"><pre>GridSearchCV(cv=5, estimator=Lasso(),\n",
       "             param_grid={&#x27;alpha&#x27;: [1e-15, 1e-10, 1e-08, 0.001, 0.01, 1, 5, 10,\n",
       "                                   20, 30, 40, 50, 60, 70, 80, 90, 100]},\n",
       "             scoring=&#x27;neg_mean_squared_error&#x27;)</pre></div></div></div><div class=\"sk-parallel\"><div class=\"sk-parallel-item\"><div class=\"sk-item\"><div class=\"sk-label-container\"><div class=\"sk-label sk-toggleable\"><input class=\"sk-toggleable__control sk-hidden--visually\" id=\"sk-estimator-id-9\" type=\"checkbox\" ><label for=\"sk-estimator-id-9\" class=\"sk-toggleable__label sk-toggleable__label-arrow\">estimator: Lasso</label><div class=\"sk-toggleable__content\"><pre>Lasso()</pre></div></div></div><div class=\"sk-serial\"><div class=\"sk-item\"><div class=\"sk-estimator sk-toggleable\"><input class=\"sk-toggleable__control sk-hidden--visually\" id=\"sk-estimator-id-10\" type=\"checkbox\" ><label for=\"sk-estimator-id-10\" class=\"sk-toggleable__label sk-toggleable__label-arrow\">Lasso</label><div class=\"sk-toggleable__content\"><pre>Lasso()</pre></div></div></div></div></div></div></div></div></div></div>"
      ],
      "text/plain": [
       "GridSearchCV(cv=5, estimator=Lasso(),\n",
       "             param_grid={'alpha': [1e-15, 1e-10, 1e-08, 0.001, 0.01, 1, 5, 10,\n",
       "                                   20, 30, 40, 50, 60, 70, 80, 90, 100]},\n",
       "             scoring='neg_mean_squared_error')"
      ]
     },
     "execution_count": 65,
     "metadata": {},
     "output_type": "execute_result"
    }
   ],
   "source": [
    "params={'alpha':[1e-15,1e-10,1e-8,1e-3,1e-2,1,5,10,20,30,40,50,60,70,80,90,100]}\n",
    "lasso_regressor=GridSearchCV(lasso,params,scoring='neg_mean_squared_error',cv=5)\n",
    "lasso_regressor.fit(X_train,y_train)"
   ]
  },
  {
   "cell_type": "code",
   "execution_count": 66,
   "id": "56b791c0",
   "metadata": {},
   "outputs": [
    {
     "name": "stdout",
     "output_type": "stream",
     "text": [
      "{'alpha': 1e-15}\n"
     ]
    }
   ],
   "source": [
    "print(lasso_regressor.best_params_)"
   ]
  },
  {
   "cell_type": "code",
   "execution_count": 67,
   "id": "df1df7f4",
   "metadata": {},
   "outputs": [
    {
     "name": "stdout",
     "output_type": "stream",
     "text": [
      "-38.44664366296617\n"
     ]
    }
   ],
   "source": [
    "print(lasso_regressor.best_score_)"
   ]
  },
  {
   "cell_type": "code",
   "execution_count": 69,
   "id": "1e3a03e9",
   "metadata": {},
   "outputs": [],
   "source": [
    "lasso_pred=lasso_regressor.predict(X_test)"
   ]
  },
  {
   "cell_type": "code",
   "execution_count": 71,
   "id": "67a9a67e",
   "metadata": {},
   "outputs": [
    {
     "data": {
      "text/plain": [
       "0.1721134514872409"
      ]
     },
     "execution_count": 71,
     "metadata": {},
     "output_type": "execute_result"
    }
   ],
   "source": [
    "from sklearn.metrics import r2_score\n",
    "score=r2_score(lasso_pred,y_test)\n",
    "score"
   ]
  },
  {
   "cell_type": "code",
   "execution_count": 72,
   "id": "5fee31c6",
   "metadata": {},
   "outputs": [
    {
     "name": "stderr",
     "output_type": "stream",
     "text": [
      "C:\\Users\\dell\\anaconda3\\Lib\\site-packages\\seaborn\\axisgrid.py:118: UserWarning: The figure layout has changed to tight\n",
      "  self._figure.tight_layout(*args, **kwargs)\n"
     ]
    },
    {
     "data": {
      "text/plain": [
       "<seaborn.axisgrid.FacetGrid at 0x1292743a610>"
      ]
     },
     "execution_count": 72,
     "metadata": {},
     "output_type": "execute_result"
    },
    {
     "data": {
      "image/png": "[encoded data removed]",
      "text/plain": [
       "<Figure size 500x500 with 1 Axes>"
      ]
     },
     "metadata": {},
     "output_type": "display_data"
    }
   ],
   "source": [
    "import seaborn as sns \n",
    "sns.displot(lasso_pred-y_test,kind='kde')"
   ]
  },
  {
   "cell_type": "code",
   "execution_count": 73,
   "id": "20030c55",
   "metadata": {},
   "outputs": [
    {
     "data": {
      "text/html": [
       "<div>\n",
       "<style scoped>\n",
       "    .dataframe tbody tr th:only-of-type {\n",
       "        vertical-align: middle;\n",
       "    }\n",
       "\n",
       "    .dataframe tbody tr th {\n",
       "        vertical-align: top;\n",
       "    }\n",
       "\n",
       "    .dataframe thead th {\n",
       "        text-align: right;\n",
       "    }\n",
       "</style>\n",
       "<table border=\"1\" class=\"dataframe\">\n",
       "  <thead>\n",
       "    <tr style=\"text-align: right;\">\n",
       "      <th></th>\n",
       "      <th>total_bill</th>\n",
       "      <th>tip</th>\n",
       "      <th>sex</th>\n",
       "      <th>smoker</th>\n",
       "      <th>time</th>\n",
       "      <th>size</th>\n",
       "    </tr>\n",
       "  </thead>\n",
       "  <tbody>\n",
       "    <tr>\n",
       "      <th>0</th>\n",
       "      <td>16</td>\n",
       "      <td>1.01</td>\n",
       "      <td>0</td>\n",
       "      <td>0</td>\n",
       "      <td>1</td>\n",
       "      <td>2</td>\n",
       "    </tr>\n",
       "    <tr>\n",
       "      <th>1</th>\n",
       "      <td>10</td>\n",
       "      <td>1.66</td>\n",
       "      <td>1</td>\n",
       "      <td>0</td>\n",
       "      <td>1</td>\n",
       "      <td>3</td>\n",
       "    </tr>\n",
       "    <tr>\n",
       "      <th>2</th>\n",
       "      <td>21</td>\n",
       "      <td>3.50</td>\n",
       "      <td>1</td>\n",
       "      <td>0</td>\n",
       "      <td>1</td>\n",
       "      <td>3</td>\n",
       "    </tr>\n",
       "    <tr>\n",
       "      <th>3</th>\n",
       "      <td>23</td>\n",
       "      <td>3.31</td>\n",
       "      <td>1</td>\n",
       "      <td>0</td>\n",
       "      <td>1</td>\n",
       "      <td>2</td>\n",
       "    </tr>\n",
       "    <tr>\n",
       "      <th>4</th>\n",
       "      <td>24</td>\n",
       "      <td>3.61</td>\n",
       "      <td>0</td>\n",
       "      <td>0</td>\n",
       "      <td>1</td>\n",
       "      <td>4</td>\n",
       "    </tr>\n",
       "  </tbody>\n",
       "</table>\n",
       "</div>"
      ],
      "text/plain": [
       "   total_bill   tip  sex  smoker  time  size\n",
       "0          16  1.01    0       0     1     2\n",
       "1          10  1.66    1       0     1     3\n",
       "2          21  3.50    1       0     1     3\n",
       "3          23  3.31    1       0     1     2\n",
       "4          24  3.61    0       0     1     4"
      ]
     },
     "execution_count": 73,
     "metadata": {},
     "output_type": "execute_result"
    }
   ],
   "source": [
    "df.head()"
   ]
  },
  {
   "cell_type": "code",
   "execution_count": 84,
   "id": "045c7acf",
   "metadata": {},
   "outputs": [
    {
     "data": {
      "text/html": [
       "<div>\n",
       "<style scoped>\n",
       "    .dataframe tbody tr th:only-of-type {\n",
       "        vertical-align: middle;\n",
       "    }\n",
       "\n",
       "    .dataframe tbody tr th {\n",
       "        vertical-align: top;\n",
       "    }\n",
       "\n",
       "    .dataframe thead th {\n",
       "        text-align: right;\n",
       "    }\n",
       "</style>\n",
       "<table border=\"1\" class=\"dataframe\">\n",
       "  <thead>\n",
       "    <tr style=\"text-align: right;\">\n",
       "      <th></th>\n",
       "      <th>total_bill</th>\n",
       "      <th>tip</th>\n",
       "      <th>sex</th>\n",
       "      <th>smoker</th>\n",
       "      <th>time</th>\n",
       "      <th>size</th>\n",
       "    </tr>\n",
       "  </thead>\n",
       "  <tbody>\n",
       "    <tr>\n",
       "      <th>0</th>\n",
       "      <td>16</td>\n",
       "      <td>1.01</td>\n",
       "      <td>0</td>\n",
       "      <td>0</td>\n",
       "      <td>1</td>\n",
       "      <td>2</td>\n",
       "    </tr>\n",
       "    <tr>\n",
       "      <th>1</th>\n",
       "      <td>10</td>\n",
       "      <td>1.66</td>\n",
       "      <td>1</td>\n",
       "      <td>0</td>\n",
       "      <td>1</td>\n",
       "      <td>3</td>\n",
       "    </tr>\n",
       "    <tr>\n",
       "      <th>2</th>\n",
       "      <td>21</td>\n",
       "      <td>3.50</td>\n",
       "      <td>1</td>\n",
       "      <td>0</td>\n",
       "      <td>1</td>\n",
       "      <td>3</td>\n",
       "    </tr>\n",
       "    <tr>\n",
       "      <th>3</th>\n",
       "      <td>23</td>\n",
       "      <td>3.31</td>\n",
       "      <td>1</td>\n",
       "      <td>0</td>\n",
       "      <td>1</td>\n",
       "      <td>2</td>\n",
       "    </tr>\n",
       "    <tr>\n",
       "      <th>4</th>\n",
       "      <td>24</td>\n",
       "      <td>3.61</td>\n",
       "      <td>0</td>\n",
       "      <td>0</td>\n",
       "      <td>1</td>\n",
       "      <td>4</td>\n",
       "    </tr>\n",
       "  </tbody>\n",
       "</table>\n",
       "</div>"
      ],
      "text/plain": [
       "   total_bill   tip  sex  smoker  time  size\n",
       "0          16  1.01    0       0     1     2\n",
       "1          10  1.66    1       0     1     3\n",
       "2          21  3.50    1       0     1     3\n",
       "3          23  3.31    1       0     1     2\n",
       "4          24  3.61    0       0     1     4"
      ]
     },
     "execution_count": 84,
     "metadata": {},
     "output_type": "execute_result"
    }
   ],
   "source": [
    "sf=df.copy()\n",
    "sf.head()"
   ]
  },
  {
   "cell_type": "code",
   "execution_count": 85,
   "id": "9129f057",
   "metadata": {},
   "outputs": [],
   "source": [
    "sf.drop(['sex'],axis=1,inplace=True)"
   ]
  },
  {
   "cell_type": "code",
   "execution_count": 86,
   "id": "b5acd202",
   "metadata": {},
   "outputs": [
    {
     "data": {
      "text/html": [
       "<div>\n",
       "<style scoped>\n",
       "    .dataframe tbody tr th:only-of-type {\n",
       "        vertical-align: middle;\n",
       "    }\n",
       "\n",
       "    .dataframe tbody tr th {\n",
       "        vertical-align: top;\n",
       "    }\n",
       "\n",
       "    .dataframe thead th {\n",
       "        text-align: right;\n",
       "    }\n",
       "</style>\n",
       "<table border=\"1\" class=\"dataframe\">\n",
       "  <thead>\n",
       "    <tr style=\"text-align: right;\">\n",
       "      <th></th>\n",
       "      <th>total_bill</th>\n",
       "      <th>tip</th>\n",
       "      <th>smoker</th>\n",
       "      <th>time</th>\n",
       "      <th>size</th>\n",
       "    </tr>\n",
       "  </thead>\n",
       "  <tbody>\n",
       "    <tr>\n",
       "      <th>0</th>\n",
       "      <td>16</td>\n",
       "      <td>1.01</td>\n",
       "      <td>0</td>\n",
       "      <td>1</td>\n",
       "      <td>2</td>\n",
       "    </tr>\n",
       "    <tr>\n",
       "      <th>1</th>\n",
       "      <td>10</td>\n",
       "      <td>1.66</td>\n",
       "      <td>0</td>\n",
       "      <td>1</td>\n",
       "      <td>3</td>\n",
       "    </tr>\n",
       "    <tr>\n",
       "      <th>2</th>\n",
       "      <td>21</td>\n",
       "      <td>3.50</td>\n",
       "      <td>0</td>\n",
       "      <td>1</td>\n",
       "      <td>3</td>\n",
       "    </tr>\n",
       "    <tr>\n",
       "      <th>3</th>\n",
       "      <td>23</td>\n",
       "      <td>3.31</td>\n",
       "      <td>0</td>\n",
       "      <td>1</td>\n",
       "      <td>2</td>\n",
       "    </tr>\n",
       "    <tr>\n",
       "      <th>4</th>\n",
       "      <td>24</td>\n",
       "      <td>3.61</td>\n",
       "      <td>0</td>\n",
       "      <td>1</td>\n",
       "      <td>4</td>\n",
       "    </tr>\n",
       "  </tbody>\n",
       "</table>\n",
       "</div>"
      ],
      "text/plain": [
       "   total_bill   tip  smoker  time  size\n",
       "0          16  1.01       0     1     2\n",
       "1          10  1.66       0     1     3\n",
       "2          21  3.50       0     1     3\n",
       "3          23  3.31       0     1     2\n",
       "4          24  3.61       0     1     4"
      ]
     },
     "execution_count": 86,
     "metadata": {},
     "output_type": "execute_result"
    }
   ],
   "source": [
    "sf.head()"
   ]
  },
  {
   "cell_type": "code",
   "execution_count": 87,
   "id": "4c00d384",
   "metadata": {},
   "outputs": [],
   "source": [
    "A=sf\n",
    "B=df['sex']"
   ]
  },
  {
   "cell_type": "code",
   "execution_count": 97,
   "id": "b911d8b9",
   "metadata": {},
   "outputs": [],
   "source": [
    "from sklearn.model_selection import train_test_split\n",
    "A_train,A_test,B_train,B_test=train_test_split(A,B,test_size=0.33,random_state=42)"
   ]
  },
  {
   "cell_type": "code",
   "execution_count": 98,
   "id": "d558a5d1",
   "metadata": {},
   "outputs": [],
   "source": [
    "from sklearn.preprocessing import StandardScaler\n",
    "scalar=StandardScaler()"
   ]
  },
  {
   "cell_type": "code",
   "execution_count": 99,
   "id": "d8a8c5c6",
   "metadata": {},
   "outputs": [],
   "source": [
    "A_train=scalar.fit_transform(A_train)"
   ]
  },
  {
   "cell_type": "code",
   "execution_count": 100,
   "id": "5b8e8142",
   "metadata": {},
   "outputs": [],
   "source": [
    "A_test=scalar.transform(A_test)"
   ]
  },
  {
   "cell_type": "code",
   "execution_count": 101,
   "id": "4eb6a044",
   "metadata": {},
   "outputs": [],
   "source": [
    "from sklearn.linear_model import LogisticRegression\n",
    "log=LogisticRegression()"
   ]
  },
  {
   "cell_type": "code",
   "execution_count": 103,
   "id": "5dd4a97e",
   "metadata": {},
   "outputs": [],
   "source": [
    "from sklearn.model_selection import GridSearchCV\n",
    "parameter={'penalty':['l1','l2','elasticnet'],'C':[1,2,3,4,5,6,10,20,30,40,50],'max_iter':[100,200,300]}"
   ]
  },
  {
   "cell_type": "code",
   "execution_count": 108,
   "id": "14d638a2",
   "metadata": {},
   "outputs": [
    {
     "name": "stderr",
     "output_type": "stream",
     "text": [
      "C:\\Users\\dell\\anaconda3\\Lib\\site-packages\\sklearn\\model_selection\\_validation.py:425: FitFailedWarning: \n",
      "330 fits failed out of a total of 495.\n",
      "The score on these train-test partitions for these parameters will be set to nan.\n",
      "If these failures are not expected, you can try to debug them by setting error_score='raise'.\n",
      "\n",
      "Below are more details about the failures:\n",
      "--------------------------------------------------------------------------------\n",
      "165 fits failed with the following error:\n",
      "Traceback (most recent call last):\n",
      "  File \"C:\\Users\\dell\\anaconda3\\Lib\\site-packages\\sklearn\\model_selection\\_validation.py\", line 732, in _fit_and_score\n",
      "    estimator.fit(X_train, y_train, **fit_params)\n",
      "  File \"C:\\Users\\dell\\anaconda3\\Lib\\site-packages\\sklearn\\base.py\", line 1151, in wrapper\n",
      "    return fit_method(estimator, *args, **kwargs)\n",
      "           ^^^^^^^^^^^^^^^^^^^^^^^^^^^^^^^^^^^^^^\n",
      "  File \"C:\\Users\\dell\\anaconda3\\Lib\\site-packages\\sklearn\\linear_model\\_logistic.py\", line 1168, in fit\n",
      "    solver = _check_solver(self.solver, self.penalty, self.dual)\n",
      "             ^^^^^^^^^^^^^^^^^^^^^^^^^^^^^^^^^^^^^^^^^^^^^^^^^^^\n",
      "  File \"C:\\Users\\dell\\anaconda3\\Lib\\site-packages\\sklearn\\linear_model\\_logistic.py\", line 56, in _check_solver\n",
      "    raise ValueError(\n",
      "ValueError: Solver lbfgs supports only 'l2' or 'none' penalties, got l1 penalty.\n",
      "\n",
      "--------------------------------------------------------------------------------\n",
      "165 fits failed with the following error:\n",
      "Traceback (most recent call last):\n",
      "  File \"C:\\Users\\dell\\anaconda3\\Lib\\site-packages\\sklearn\\model_selection\\_validation.py\", line 732, in _fit_and_score\n",
      "    estimator.fit(X_train, y_train, **fit_params)\n",
      "  File \"C:\\Users\\dell\\anaconda3\\Lib\\site-packages\\sklearn\\base.py\", line 1151, in wrapper\n",
      "    return fit_method(estimator, *args, **kwargs)\n",
      "           ^^^^^^^^^^^^^^^^^^^^^^^^^^^^^^^^^^^^^^\n",
      "  File \"C:\\Users\\dell\\anaconda3\\Lib\\site-packages\\sklearn\\linear_model\\_logistic.py\", line 1168, in fit\n",
      "    solver = _check_solver(self.solver, self.penalty, self.dual)\n",
      "             ^^^^^^^^^^^^^^^^^^^^^^^^^^^^^^^^^^^^^^^^^^^^^^^^^^^\n",
      "  File \"C:\\Users\\dell\\anaconda3\\Lib\\site-packages\\sklearn\\linear_model\\_logistic.py\", line 56, in _check_solver\n",
      "    raise ValueError(\n",
      "ValueError: Solver lbfgs supports only 'l2' or 'none' penalties, got elasticnet penalty.\n",
      "\n",
      "  warnings.warn(some_fits_failed_message, FitFailedWarning)\n",
      "C:\\Users\\dell\\anaconda3\\Lib\\site-packages\\sklearn\\model_selection\\_search.py:976: UserWarning: One or more of the test scores are non-finite: [       nan 0.61931818        nan        nan 0.61931818        nan\n",
      "        nan 0.61931818        nan        nan 0.62537879        nan\n",
      "        nan 0.62537879        nan        nan 0.62537879        nan\n",
      "        nan 0.62537879        nan        nan 0.62537879        nan\n",
      "        nan 0.62537879        nan        nan 0.62537879        nan\n",
      "        nan 0.62537879        nan        nan 0.62537879        nan\n",
      "        nan 0.63143939        nan        nan 0.63143939        nan\n",
      "        nan 0.63143939        nan        nan 0.63143939        nan\n",
      "        nan 0.63143939        nan        nan 0.63143939        nan\n",
      "        nan 0.62537879        nan        nan 0.62537879        nan\n",
      "        nan 0.62537879        nan        nan 0.62537879        nan\n",
      "        nan 0.62537879        nan        nan 0.62537879        nan\n",
      "        nan 0.62537879        nan        nan 0.62537879        nan\n",
      "        nan 0.62537879        nan        nan 0.62537879        nan\n",
      "        nan 0.62537879        nan        nan 0.62537879        nan\n",
      "        nan 0.62537879        nan        nan 0.62537879        nan\n",
      "        nan 0.62537879        nan]\n",
      "  warnings.warn(\n"
     ]
    },
    {
     "data": {
      "text/html": [
       "<style>#sk-container-id-5 {color: black;}#sk-container-id-5 pre{padding: 0;}#sk-container-id-5 div.sk-toggleable {background-color: white;}#sk-container-id-5 label.sk-toggleable__label {cursor: pointer;display: block;width: 100%;margin-bottom: 0;padding: 0.3em;box-sizing: border-box;text-align: center;}#sk-container-id-5 label.sk-toggleable__label-arrow:before {content: \"▸\";float: left;margin-right: 0.25em;color: #696969;}#sk-container-id-5 label.sk-toggleable__label-arrow:hover:before {color: black;}#sk-container-id-5 div.sk-estimator:hover label.sk-toggleable__label-arrow:before {color: black;}#sk-container-id-5 div.sk-toggleable__content {max-height: 0;max-width: 0;overflow: hidden;text-align: left;background-color: #f0f8ff;}#sk-container-id-5 div.sk-toggleable__content pre {margin: 0.2em;color: black;border-radius: 0.25em;background-color: #f0f8ff;}#sk-container-id-5 input.sk-toggleable__control:checked~div.sk-toggleable__content {max-height: 200px;max-width: 100%;overflow: auto;}#sk-container-id-5 input.sk-toggleable__control:checked~label.sk-toggleable__label-arrow:before {content: \"▾\";}#sk-container-id-5 div.sk-estimator input.sk-toggleable__control:checked~label.sk-toggleable__label {background-color: #d4ebff;}#sk-container-id-5 div.sk-label input.sk-toggleable__control:checked~label.sk-toggleable__label {background-color: #d4ebff;}#sk-container-id-5 input.sk-hidden--visually {border: 0;clip: rect(1px 1px 1px 1px);clip: rect(1px, 1px, 1px, 1px);height: 1px;margin: -1px;overflow: hidden;padding: 0;position: absolute;width: 1px;}#sk-container-id-5 div.sk-estimator {font-family: monospace;background-color: #f0f8ff;border: 1px dotted black;border-radius: 0.25em;box-sizing: border-box;margin-bottom: 0.5em;}#sk-container-id-5 div.sk-estimator:hover {background-color: #d4ebff;}#sk-container-id-5 div.sk-parallel-item::after {content: \"\";width: 100%;border-bottom: 1px solid gray;flex-grow: 1;}#sk-container-id-5 div.sk-label:hover label.sk-toggleable__label {background-color: #d4ebff;}#sk-container-id-5 div.sk-serial::before {content: \"\";position: absolute;border-left: 1px solid gray;box-sizing: border-box;top: 0;bottom: 0;left: 50%;z-index: 0;}#sk-container-id-5 div.sk-serial {display: flex;flex-direction: column;align-items: center;background-color: white;padding-right: 0.2em;padding-left: 0.2em;position: relative;}#sk-container-id-5 div.sk-item {position: relative;z-index: 1;}#sk-container-id-5 div.sk-parallel {display: flex;align-items: stretch;justify-content: center;background-color: white;position: relative;}#sk-container-id-5 div.sk-item::before, #sk-container-id-5 div.sk-parallel-item::before {content: \"\";position: absolute;border-left: 1px solid gray;box-sizing: border-box;top: 0;bottom: 0;left: 50%;z-index: -1;}#sk-container-id-5 div.sk-parallel-item {display: flex;flex-direction: column;z-index: 1;position: relative;background-color: white;}#sk-container-id-5 div.sk-parallel-item:first-child::after {align-self: flex-end;width: 50%;}#sk-container-id-5 div.sk-parallel-item:last-child::after {align-self: flex-start;width: 50%;}#sk-container-id-5 div.sk-parallel-item:only-child::after {width: 0;}#sk-container-id-5 div.sk-dashed-wrapped {border: 1px dashed gray;margin: 0 0.4em 0.5em 0.4em;box-sizing: border-box;padding-bottom: 0.4em;background-color: white;}#sk-container-id-5 div.sk-label label {font-family: monospace;font-weight: bold;display: inline-block;line-height: 1.2em;}#sk-container-id-5 div.sk-label-container {text-align: center;}#sk-container-id-5 div.sk-container {/* jupyter's `normalize.less` sets `[hidden] { display: none; }` but bootstrap.min.css set `[hidden] { display: none !important; }` so we also need the `!important` here to be able to override the default hidden behavior on the sphinx rendered scikit-learn.org. See: https://github.com/scikit-learn/scikit-learn/issues/21755 */display: inline-block !important;position: relative;}#sk-container-id-5 div.sk-text-repr-fallback {display: none;}</style><div id=\"sk-container-id-5\" class=\"sk-top-container\"><div class=\"sk-text-repr-fallback\"><pre>GridSearchCV(cv=5, estimator=LogisticRegression(),\n",
       "             param_grid={&#x27;C&#x27;: [1, 2, 3, 4, 5, 6, 10, 20, 30, 40, 50],\n",
       "                         &#x27;max_iter&#x27;: [100, 200, 300],\n",
       "                         &#x27;penalty&#x27;: [&#x27;l1&#x27;, &#x27;l2&#x27;, &#x27;elasticnet&#x27;]},\n",
       "             scoring=&#x27;accuracy&#x27;)</pre><b>In a Jupyter environment, please rerun this cell to show the HTML representation or trust the notebook. <br />On GitHub, the HTML representation is unable to render, please try loading this page with nbviewer.org.</b></div><div class=\"sk-container\" hidden><div class=\"sk-item sk-dashed-wrapped\"><div class=\"sk-label-container\"><div class=\"sk-label sk-toggleable\"><input class=\"sk-toggleable__control sk-hidden--visually\" id=\"sk-estimator-id-11\" type=\"checkbox\" ><label for=\"sk-estimator-id-11\" class=\"sk-toggleable__label sk-toggleable__label-arrow\">GridSearchCV</label><div class=\"sk-toggleable__content\"><pre>GridSearchCV(cv=5, estimator=LogisticRegression(),\n",
       "             param_grid={&#x27;C&#x27;: [1, 2, 3, 4, 5, 6, 10, 20, 30, 40, 50],\n",
       "                         &#x27;max_iter&#x27;: [100, 200, 300],\n",
       "                         &#x27;penalty&#x27;: [&#x27;l1&#x27;, &#x27;l2&#x27;, &#x27;elasticnet&#x27;]},\n",
       "             scoring=&#x27;accuracy&#x27;)</pre></div></div></div><div class=\"sk-parallel\"><div class=\"sk-parallel-item\"><div class=\"sk-item\"><div class=\"sk-label-container\"><div class=\"sk-label sk-toggleable\"><input class=\"sk-toggleable__control sk-hidden--visually\" id=\"sk-estimator-id-12\" type=\"checkbox\" ><label for=\"sk-estimator-id-12\" class=\"sk-toggleable__label sk-toggleable__label-arrow\">estimator: LogisticRegression</label><div class=\"sk-toggleable__content\"><pre>LogisticRegression()</pre></div></div></div><div class=\"sk-serial\"><div class=\"sk-item\"><div class=\"sk-estimator sk-toggleable\"><input class=\"sk-toggleable__control sk-hidden--visually\" id=\"sk-estimator-id-13\" type=\"checkbox\" ><label for=\"sk-estimator-id-13\" class=\"sk-toggleable__label sk-toggleable__label-arrow\">LogisticRegression</label><div class=\"sk-toggleable__content\"><pre>LogisticRegression()</pre></div></div></div></div></div></div></div></div></div></div>"
      ],
      "text/plain": [
       "GridSearchCV(cv=5, estimator=LogisticRegression(),\n",
       "             param_grid={'C': [1, 2, 3, 4, 5, 6, 10, 20, 30, 40, 50],\n",
       "                         'max_iter': [100, 200, 300],\n",
       "                         'penalty': ['l1', 'l2', 'elasticnet']},\n",
       "             scoring='accuracy')"
      ]
     },
     "execution_count": 108,
     "metadata": {},
     "output_type": "execute_result"
    }
   ],
   "source": [
    "log_regresssor=GridSearchCV(log,parameter,scoring='accuracy',cv=5)\n",
    "log_regresssor.fit(A_train,B_train)"
   ]
  },
  {
   "cell_type": "code",
   "execution_count": 109,
   "id": "fb6c9b8a",
   "metadata": {},
   "outputs": [
    {
     "name": "stdout",
     "output_type": "stream",
     "text": [
      "{'C': 5, 'max_iter': 100, 'penalty': 'l2'}\n"
     ]
    }
   ],
   "source": [
    "print(log_regresssor.best_params_)"
   ]
  },
  {
   "cell_type": "code",
   "execution_count": 110,
   "id": "bdc6da51",
   "metadata": {},
   "outputs": [
    {
     "name": "stdout",
     "output_type": "stream",
     "text": [
      "0.631439393939394\n"
     ]
    }
   ],
   "source": [
    "print(log_regresssor.best_score_)"
   ]
  },
  {
   "cell_type": "code",
   "execution_count": 111,
   "id": "0e1cba20",
   "metadata": {},
   "outputs": [],
   "source": [
    "log_pred=log_regresssor.predict(A_test)"
   ]
  },
  {
   "cell_type": "code",
   "execution_count": 113,
   "id": "9162f00e",
   "metadata": {},
   "outputs": [],
   "source": [
    "from sklearn.metrics import accuracy_score,classification_report\n",
    "score=accuracy_score(log_pred,B_test)"
   ]
  },
  {
   "cell_type": "code",
   "execution_count": 114,
   "id": "77515d6a",
   "metadata": {},
   "outputs": [
    {
     "data": {
      "text/plain": [
       "0.7037037037037037"
      ]
     },
     "execution_count": 114,
     "metadata": {},
     "output_type": "execute_result"
    }
   ],
   "source": [
    "score"
   ]
  },
  {
   "cell_type": "code",
   "execution_count": null,
   "id": "448867c5",
   "metadata": {},
   "outputs": [],
   "source": []
  },
  {
   "cell_type": "code",
   "execution_count": null,
   "id": "1f45d7b0",
   "metadata": {},
   "outputs": [],
   "source": []
  },
  {
   "cell_type": "code",
   "execution_count": null,
   "id": "273cc623",
   "metadata": {},
   "outputs": [],
   "source": []
  },
  {
   "cell_type": "markdown",
   "id": "d8023b0b",
   "metadata": {},
   "source": []
  }
 ],
 "metadata": {
  "kernelspec": {
   "display_name": "Python 3 (ipykernel)",
   "language": "python",
   "name": "python3"
  },
  "language_info": {
   "codemirror_mode": {
    "name": "ipython",
    "version": 3
   },
   "file_extension": ".py",
   "mimetype": "text/x-python",
   "name": "python",
   "nbconvert_exporter": "python",
   "pygments_lexer": "ipython3",
   "version": "3.11.5"
  }
 },
 "nbformat": 4,
 "nbformat_minor": 5
}
